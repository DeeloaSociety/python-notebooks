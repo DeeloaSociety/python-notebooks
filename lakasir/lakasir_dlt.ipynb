{
 "cells": [
  {
   "cell_type": "code",
   "id": "initial_id",
   "metadata": {
    "collapsed": true,
    "ExecuteTime": {
     "end_time": "2025-09-11T12:13:13.708109Z",
     "start_time": "2025-09-11T12:13:13.680109Z"
    }
   },
   "source": [
    "import os\n",
    "import ibis\n",
    "import dlt\n",
    "import pandas as pd\n",
    "from dotenv import load_dotenv\n",
    "from lakasirclient import LakasirClient\n",
    "\n",
    "import plotly.express as px\n",
    "import plotly.graph_objects as go\n",
    "\n",
    "load_dotenv()\n",
    "ibis.options.interactive = True"
   ],
   "outputs": [],
   "execution_count": 11
  },
  {
   "metadata": {},
   "cell_type": "code",
   "source": [
    "lakasirClient = LakasirClient(\n",
    "    base_url=os.getenv(\"LAKASIR_BASE_URL\"),\n",
    "    email=os.getenv(\"LAKASIR_EMAIL\"),\n",
    "    password=os.getenv(\"LAKASIR_PASSWORD\")\n",
    ")"
   ],
   "id": "f6a3b75b37b18e65",
   "outputs": [],
   "execution_count": null
  },
  {
   "metadata": {
    "ExecuteTime": {
     "end_time": "2025-09-11T08:45:13.885987Z",
     "start_time": "2025-09-11T08:45:13.817968Z"
    }
   },
   "cell_type": "code",
   "source": [
    "pipeline = dlt.pipeline(\n",
    "    pipeline_name=\"lakasir\",\n",
    "    destination=\"duckdb\",\n",
    "    # refresh=\"replace\",\n",
    ")"
   ],
   "id": "30a1501db0ea5e8f",
   "outputs": [],
   "execution_count": 47
  },
  {
   "metadata": {
    "ExecuteTime": {
     "end_time": "2025-09-11T08:45:17.921108Z",
     "start_time": "2025-09-11T08:45:15.477412Z"
    }
   },
   "cell_type": "code",
   "source": [
    "@dlt.resource\n",
    "def about():\n",
    "    yield lakasirClient.about()[\"data\"]\n",
    "\n",
    "pipeline_info = pipeline.run(about)"
   ],
   "id": "46e5da6349ac65cb",
   "outputs": [],
   "execution_count": 48
  },
  {
   "metadata": {
    "ExecuteTime": {
     "end_time": "2025-09-11T08:52:25.207274Z",
     "start_time": "2025-09-11T08:52:20.711277Z"
    }
   },
   "cell_type": "code",
   "source": [
    "# reference: https://github.com/DataTalksClub/data-engineering-zoomcamp/blob/main/cohorts/2024/workshops/dlt_resources/data_ingestion_workshop.md\n",
    "\n",
    "@dlt.resource(\n",
    "    write_disposition=\"merge\",\n",
    "    merge_key=\"id\",\n",
    "    columns={\n",
    "        'id': {'data_type': 'bigint'},\n",
    "        'member': {'data_type': 'text'},\n",
    "        'member__email': {'data_type': 'text'},\n",
    "        'member__joined_date': {'data_type': 'date'},\n",
    "        'member__address': {'data_type': 'text'},\n",
    "        'note': {'data_type': 'text'},\n",
    "    }\n",
    ")\n",
    "def sells():\n",
    "    page = 1\n",
    "    per_page = 30\n",
    "    has_more_pages = True\n",
    "\n",
    "    while has_more_pages:\n",
    "        api = lakasirClient.transaction_sells_with_page(page=page, per_page=per_page)[\"data\"]\n",
    "\n",
    "        if api[\"meta\"][\"to\"] is None:\n",
    "            has_more_pages = False\n",
    "        else:\n",
    "            for record in api[\"data\"]:\n",
    "                yield dict(\n",
    "                    id=record[\"id\"],\n",
    "                    member=record[\"member\"],\n",
    "                    note=record[\"note\"],\n",
    "                    code=record[\"code\"],\n",
    "                    cashier=record[\"cashier\"][\"email\"],\n",
    "                    payed_money=record[\"payed_money\"],\n",
    "                    money_changes=record[\"money_changes\"],\n",
    "                    total_qty=record[\"total_qty\"],\n",
    "                    total_price=record[\"total_price\"],\n",
    "                    total_discount_per_item=record[\"total_discount_per_item\"],\n",
    "                    discount=record[\"discount\"],\n",
    "                    total_discount=record[\"total_discount\"],\n",
    "                    grand_total_price=record[\"grand_total_price\"],\n",
    "                    total_cost=record[\"total_cost\"],\n",
    "                    created_at=record[\"created_at\"],\n",
    "                    updated_at=record[\"updated_at\"],\n",
    "                )\n",
    "            page += 1\n",
    "\n",
    "pipeline_info = pipeline.run(sells)"
   ],
   "id": "33a4a5f5e6afd303",
   "outputs": [],
   "execution_count": 81
  },
  {
   "metadata": {
    "ExecuteTime": {
     "end_time": "2025-09-11T08:45:36.198860Z",
     "start_time": "2025-09-11T08:45:32.624030Z"
    }
   },
   "cell_type": "code",
   "source": [
    "@dlt.resource(write_disposition=\"merge\", merge_key=\"id\")\n",
    "def sell_details():\n",
    "    page = 1\n",
    "    per_page = 10\n",
    "    has_more_pages = True\n",
    "\n",
    "    while has_more_pages:\n",
    "        api = lakasirClient.transaction_sells_with_page(page=page, per_page=per_page)[\"data\"]\n",
    "\n",
    "        if api[\"meta\"][\"to\"] is None:\n",
    "            has_more_pages = False\n",
    "        else:\n",
    "            for list in api[\"data\"]:\n",
    "                for record in list[\"selling_details\"]:\n",
    "                    yield dict(\n",
    "                        id=record[\"id\"],\n",
    "                        selling_id=record[\"selling_id\"],\n",
    "                        product_id=record[\"product_id\"],\n",
    "                        unit=record[\"product\"][\"unit\"],\n",
    "                        type=record[\"product\"][\"type\"],\n",
    "                        name=record[\"product\"][\"name\"],\n",
    "                        category=record[\"product\"][\"category\"][\"name\"],\n",
    "                        initial_price=record[\"product\"][\"initial_price\"],\n",
    "                        selling_price=record[\"product\"][\"selling_price\"],\n",
    "                        qty=record[\"qty\"],\n",
    "                        price=record[\"price\"],\n",
    "                        discount=record[\"discount\"],\n",
    "                        discount_price=record[\"discount_price\"],\n",
    "                        created_at=record[\"created_at\"],\n",
    "                        updated_at=record[\"updated_at\"],\n",
    "                    )\n",
    "            page += 1\n",
    "\n",
    "pipeline_info = pipeline.run(sell_details)"
   ],
   "id": "a6857151fc349b2a",
   "outputs": [],
   "execution_count": 50
  },
  {
   "metadata": {
    "ExecuteTime": {
     "end_time": "2025-09-11T08:53:05.903750Z",
     "start_time": "2025-09-11T08:53:05.887163Z"
    }
   },
   "cell_type": "code",
   "source": [
    "dataset = pipeline.dataset()\n",
    "\n",
    "about = dataset.table(\"about\")\n",
    "sells = dataset.table(\"sells\")\n",
    "sell_details = dataset.table(\"sell_details\")"
   ],
   "id": "a1a0aa52619f7b96",
   "outputs": [],
   "execution_count": 84
  },
  {
   "metadata": {
    "ExecuteTime": {
     "end_time": "2025-09-11T08:53:07.715593Z",
     "start_time": "2025-09-11T08:53:07.705676Z"
    }
   },
   "cell_type": "code",
   "source": [
    "START_DATE = \"2025-09-01\"\n",
    "END_DATE = \"2025-09-11\""
   ],
   "id": "5fc11760eb4e5ef7",
   "outputs": [],
   "execution_count": 85
  },
  {
   "metadata": {
    "ExecuteTime": {
     "end_time": "2025-09-11T09:07:07.127491Z",
     "start_time": "2025-09-11T09:07:07.056721Z"
    }
   },
   "cell_type": "code",
   "source": [
    "sells_df = ibis.memtable(sells.df())\n",
    "\n",
    "sells_df = sells_df.mutate(\n",
    "    created_at =sells_df.created_at.cast(\"date\"),\n",
    "    updated_at =sells_df.updated_at.cast(\"date\"),\n",
    "    payed_money =sells_df.payed_money.cast(\"decimal(19, 2)\"),\n",
    "    money_changes =sells_df.money_changes.cast(\"decimal(19, 2)\"),\n",
    "    total_qty =sells_df.total_qty.cast(\"decimal\"),\n",
    "    total_price =sells_df.total_price.cast(\"decimal(19, 2)\"),\n",
    "    total_discount_per_item =sells_df.total_discount_per_item.cast(\"decimal(19, 2)\"),\n",
    "    discount =sells_df.discount.cast(\"decimal(19, 2)\"),\n",
    "    total_discount =sells_df.total_discount.cast(\"decimal(19, 2)\"),\n",
    "    grand_total_price =sells_df.grand_total_price.cast(\"decimal(19, 2)\"),\n",
    "    total_cost =sells_df.total_cost.cast(\"decimal(19, 2)\"),\n",
    "    member_name =sells_df.member__name.fill_null(\"Guest\"),\n",
    ")\n",
    "\n",
    "sells_df = sells_df.select(\"id\", \"member_name\", \"code\", \"cashier\", \"payed_money\", \"money_changes\", \"total_qty\", \"total_price\", \"total_discount_per_item\", \"discount\", \"total_discount\", \"grand_total_price\", \"total_cost\", \"created_at\", \"updated_at\")"
   ],
   "id": "6b68a16309ea33ef",
   "outputs": [],
   "execution_count": 110
  },
  {
   "metadata": {
    "ExecuteTime": {
     "end_time": "2025-09-11T08:58:54.570463Z",
     "start_time": "2025-09-11T08:58:54.556732Z"
    }
   },
   "cell_type": "code",
   "source": [
    "sells_df = sells_df.filter(\n",
    "    sells_df.created_at.between(START_DATE, END_DATE)\n",
    ")"
   ],
   "id": "d0c620789d018a3",
   "outputs": [],
   "execution_count": 94
  },
  {
   "metadata": {
    "ExecuteTime": {
     "end_time": "2025-09-11T09:07:08.645825Z",
     "start_time": "2025-09-11T09:07:08.635292Z"
    }
   },
   "cell_type": "code",
   "source": [
    "def sells_agg(group_by: list[str]) -> ibis.Table:\n",
    "    return (\n",
    "        sells_df.group_by(group_by)\n",
    "        .aggregate(\n",
    "            payed_money=sells_df.payed_money.sum(),\n",
    "            money_changes=sells_df.money_changes.sum(),\n",
    "            total_qty=sells_df.total_qty.count(),\n",
    "            total_price=sells_df.total_price.sum(),\n",
    "            total_discount_per_item=sells_df.total_discount_per_item.sum(),\n",
    "            discount=sells_df.discount.sum(),\n",
    "            total_discount=sells_df.total_discount.sum(),\n",
    "            grand_total_price=sells_df.grand_total_price.sum(),\n",
    "            total_cost=sells_df.total_cost.sum(),\n",
    "        )\n",
    "    )"
   ],
   "id": "ece61d01d5c5b2ba",
   "outputs": [],
   "execution_count": 111
  },
  {
   "metadata": {
    "ExecuteTime": {
     "end_time": "2025-09-11T08:59:01.612412Z",
     "start_time": "2025-09-11T08:59:01.600931Z"
    }
   },
   "cell_type": "code",
   "source": [
    "# total revenue\n",
    "total_revenue = sells_df.grand_total_price.sum()\n",
    "# total cogs\n",
    "total_cost = sells_df.total_cost.sum()\n",
    "# total discounts\n",
    "total_discount = sells_df.total_discount.sum()\n",
    "# gross profit\n",
    "gross_profit = total_revenue - (total_cost + total_discount)"
   ],
   "id": "78227e2e3004441d",
   "outputs": [],
   "execution_count": 96
  },
  {
   "metadata": {
    "ExecuteTime": {
     "end_time": "2025-09-11T09:01:07.506095Z",
     "start_time": "2025-09-11T09:01:07.431469Z"
    }
   },
   "cell_type": "code",
   "source": [
    "sell_details_df = ibis.memtable(sell_details.df())\n",
    "\n",
    "sell_details_df = sell_details_df.mutate(\n",
    "    created_at =sell_details_df.created_at.cast(\"date\"),\n",
    "    updated_at =sell_details_df.updated_at.cast(\"date\"),\n",
    "    qty =sell_details_df.qty.cast(\"decimal\"),\n",
    "    initial_price =sell_details_df.initial_price.cast(\"decimal(19, 2)\"),\n",
    "    selling_price =sell_details_df.selling_price.cast(\"decimal(19, 2)\"),\n",
    "    price =sell_details_df.price.cast(\"decimal(19, 2)\"),\n",
    "    discount =sell_details_df.discount.cast(\"decimal(19, 2)\"),\n",
    "    discount_price =sell_details_df.discount_price.cast(\"decimal(19, 2)\"),\n",
    ")\n",
    "\n",
    "sell_details_df = sell_details_df.select(\"id\", \"selling_id\", \"product_id\", \"unit\", \"type\", \"name\", \"category\", \"initial_price\", \"selling_price\", \"qty\", \"price\", \"discount\", \"discount_price\", \"created_at\", \"updated_at\")"
   ],
   "id": "996aea39a71e6e69",
   "outputs": [],
   "execution_count": 101
  },
  {
   "metadata": {
    "ExecuteTime": {
     "end_time": "2025-09-11T09:01:10.354416Z",
     "start_time": "2025-09-11T09:01:10.340484Z"
    }
   },
   "cell_type": "code",
   "source": [
    "sell_details_df = sell_details_df.filter(\n",
    "    sell_details_df.created_at.between(START_DATE, END_DATE)\n",
    ")"
   ],
   "id": "7474fb68a6f2d8d",
   "outputs": [],
   "execution_count": 102
  },
  {
   "metadata": {
    "ExecuteTime": {
     "end_time": "2025-09-11T09:01:12.008473Z",
     "start_time": "2025-09-11T09:01:11.999828Z"
    }
   },
   "cell_type": "code",
   "source": [
    "def sell_details_agg(group_by: list[str]) -> ibis.Table:\n",
    "    return (\n",
    "        sell_details_df.group_by(group_by)\n",
    "        .aggregate(\n",
    "            qty=sell_details_df.qty.sum(),\n",
    "            price=sell_details_df.price.sum(),\n",
    "            discount=sell_details_df.discount.sum(),\n",
    "            discount_price=sell_details_df.discount_price.sum(),\n",
    "        )\n",
    "    )"
   ],
   "id": "1d9736c5e6143050",
   "outputs": [],
   "execution_count": 103
  },
  {
   "metadata": {
    "ExecuteTime": {
     "end_time": "2025-09-11T09:07:13.314502Z",
     "start_time": "2025-09-11T09:07:13.251996Z"
    }
   },
   "cell_type": "code",
   "source": [
    "# revenue by member\n",
    "sells_agg_by_member = sells_agg([\"member_name\"])\n",
    "\n",
    "# revenue by product category\n",
    "sell_details_agg_by_category = sell_details_agg([\"category\"])\n",
    "\n",
    "# revenue and discount by product\n",
    "sell_details_agg_by_name = sell_details_agg([\"name\"])"
   ],
   "id": "2593d733d0b20ffc",
   "outputs": [],
   "execution_count": 112
  },
  {
   "metadata": {},
   "cell_type": "code",
   "source": [
    "# revenue by member\n",
    "revenue_by_member = sells_agg_by_member.mutate(\n",
    "    total_pendapatan=sells_agg_by_member.grand_total_price,\n",
    "    rasio_pendapatan=(sells_agg_by_member.grand_total_price / sells_agg_by_member.grand_total_price.sum().as_scalar()) * 100\n",
    ")\n",
    "\n",
    "revenue_by_member_pd = revenue_by_member.to_pandas()\n",
    "\n",
    "revenue_by_member_pd_plot = px.pie(\n",
    "    revenue_by_member_pd, values='rasio_pendapatan', names='member_name',\n",
    "    color_discrete_sequence=px.colors.sequential.Magenta,\n",
    ")\n",
    "\n",
    "revenue_by_member_pd_plot.update_layout(\n",
    "    title=f\"Rasio Pendapatan Berdasarkan Keanggotaan\",\n",
    "    title_font_size=15,\n",
    "    width=400,\n",
    "    height=250,\n",
    "    margin=dict(l=20, r=20, t=35, b=20),\n",
    "\n",
    ")\n",
    "revenue_by_member_pd_plot.show()"
   ],
   "id": "d194bdb2e041e1cb",
   "outputs": [],
   "execution_count": null
  },
  {
   "metadata": {},
   "cell_type": "code",
   "source": [
    "# revenue by category\n",
    "revenue_by_category = sell_details_agg_by_category.mutate(\n",
    "    total_pendapatan=sell_details_agg_by_category.discount_price,\n",
    "    rasio_pendapatan=(sell_details_agg_by_category.discount_price / sell_details_agg_by_category.discount_price.sum().as_scalar()) * 100\n",
    ")\n",
    "\n",
    "revenue_by_category_pd = revenue_by_category.to_pandas()\n",
    "\n",
    "revenue_ratio_by_category_plot = px.pie(\n",
    "    revenue_by_category_pd, values='rasio_pendapatan', names='category',\n",
    "    color_discrete_sequence=px.colors.sequential.Aggrnyl,\n",
    ")\n",
    "\n",
    "revenue_ratio_by_category_plot.update_layout(\n",
    "    title=f\"Rasio Pendapatan Berdasarkan Kategori\",\n",
    "    title_font_size=15,\n",
    "    width=400,\n",
    "    height=250,\n",
    "    margin=dict(l=20, r=20, t=35, b=20),\n",
    "\n",
    ")\n",
    "revenue_ratio_by_category_plot.show()"
   ],
   "id": "e5d9075deb62339a",
   "outputs": [],
   "execution_count": null
  },
  {
   "metadata": {},
   "cell_type": "code",
   "source": [
    "# revenue by item name\n",
    "revenue_by_item_name = sell_details_agg_by_name.mutate(\n",
    "    total_pendapatan=sell_details_agg_by_name.discount_price,\n",
    "    rasio_pendapatan=(sell_details_agg_by_name.discount_price / sell_details_agg_by_name.discount_price.sum().as_scalar()) * 100\n",
    ")\n",
    "\n",
    "revenue_by_item_name_pd = revenue_by_item_name.to_pandas()\n",
    "\n",
    "revenue_ratio_by_item_name_plot = px.pie(\n",
    "    revenue_by_item_name_pd, values='rasio_pendapatan', names='name',\n",
    "    color_discrete_sequence=px.colors.sequential.Oryel,\n",
    ")\n",
    "\n",
    "revenue_ratio_by_item_name_plot.update_layout(\n",
    "    title=f\"Rasio Pendapatan Berdasarkan Produk\",\n",
    "    title_font_size=15,\n",
    "    width=400,\n",
    "    height=250,\n",
    "    margin=dict(l=20, r=20, t=35, b=20),\n",
    "\n",
    ")\n",
    "revenue_ratio_by_item_name_plot.show()"
   ],
   "id": "25e66ebe47a406a2",
   "outputs": [],
   "execution_count": null
  },
  {
   "metadata": {},
   "cell_type": "code",
   "source": [
    "# discount by item name\n",
    "discount_by_item_name = sell_details_agg_by_name.mutate(\n",
    "    total_potongan=sell_details_agg_by_name.discount,\n",
    "    rasio_potongan=(sell_details_agg_by_name.discount / sell_details_agg_by_name.discount.sum().as_scalar()) * 100\n",
    ")\n",
    "\n",
    "discount_by_item_name_pd = discount_by_item_name.to_pandas()\n",
    "\n",
    "discount_ratio_by_item_name_plot = px.pie(\n",
    "    discount_by_item_name_pd, values='rasio_potongan', names='name',\n",
    "    color_discrete_sequence=px.colors.sequential.Tealgrn,\n",
    ")\n",
    "\n",
    "discount_ratio_by_item_name_plot.update_layout(\n",
    "    title=f\"Rasio Potongan Harga Berdasarkan Produk\",\n",
    "    title_font_size=15,\n",
    "    width=400,\n",
    "    height=250,\n",
    "    margin=dict(l=20, r=20, t=35, b=20),\n",
    "\n",
    ")\n",
    "discount_ratio_by_item_name_plot.show()"
   ],
   "id": "588a32152fc8cf2e",
   "outputs": [],
   "execution_count": null
  },
  {
   "metadata": {},
   "cell_type": "code",
   "source": [
    "# 10 top best-selling product\n",
    "top_sells = (\n",
    "    sell_details_df.group_by([\"name\"]).aggregate(\n",
    "        qty=sell_details_df.qty.sum(),\n",
    "    ).order_by(ibis.desc(\"qty\"))\n",
    ").head(10)\n",
    "\n",
    "top_sells_pd = top_sells.to_pandas()\n",
    "\n",
    "top_sells_plot = px.funnel_area(\n",
    "    names=top_sells_pd[\"name\"],\n",
    "    values=top_sells_pd[\"qty\"],\n",
    "    color_discrete_sequence=px.colors.sequential.Teal,\n",
    ")\n",
    "\n",
    "top_sells_plot.update_layout(\n",
    "    title=f\"Top 10 Produk Paling Laris\",\n",
    "    title_font_size=15,\n",
    "    width=400,\n",
    "    height=250,\n",
    "    margin=dict(l=20, r=20, t=35, b=20),\n",
    "\n",
    ")\n",
    "top_sells_plot.show()"
   ],
   "id": "13067c7ecddd56bf",
   "outputs": [],
   "execution_count": null
  },
  {
   "metadata": {
    "ExecuteTime": {
     "end_time": "2025-09-11T08:46:05.807233Z",
     "start_time": "2025-09-11T08:46:05.801445Z"
    }
   },
   "cell_type": "code",
   "source": [
    "ITEM_NAME = \"\"\n",
    "STEP_PREDICTION = 3"
   ],
   "id": "3768788d4f7057b7",
   "outputs": [],
   "execution_count": 63
  },
  {
   "metadata": {},
   "cell_type": "code",
   "source": [
    "# sell price ratio\n",
    "sell_price_ratio_by_name = (\n",
    "    sell_details_df.filter(\n",
    "        sell_details_df.name == ITEM_NAME\n",
    "    ).group_by([\"name\", \"selling_price\"]).aggregate(\n",
    "        total_discount=sell_details_df.discount.sum(),\n",
    "        total_price=sell_details_df.price.sum(),\n",
    "    )\n",
    ")\n",
    "\n",
    "sell_price_ratio_by_name = (\n",
    "    sell_price_ratio_by_name.mutate(\n",
    "        total_price_ratio=(sell_price_ratio_by_name.total_price / sell_price_ratio_by_name.total_price.sum().as_scalar()) * 100)\n",
    ")"
   ],
   "id": "33276cc3c83abea1",
   "outputs": [],
   "execution_count": null
  },
  {
   "metadata": {},
   "cell_type": "code",
   "source": [
    "sell_price_ratio_by_name_pd = sell_price_ratio_by_name.to_pandas()\n",
    "\n",
    "sell_price_ratio_by_name_plot = px.pie(\n",
    "    sell_price_ratio_by_name_pd, values='total_price_ratio', names='selling_price',\n",
    "    color_discrete_sequence=px.colors.sequential.Purp,\n",
    ")\n",
    "\n",
    "sell_price_ratio_by_name_plot.update_layout(\n",
    "    title=f\"Rasio Harga Jual Berdasarkan Produk {ITEM_NAME}\",\n",
    "    title_font_size=15,\n",
    "    width=400,\n",
    "    height=250,\n",
    "    margin=dict(l=20, r=20, t=35, b=20),\n",
    "\n",
    ")\n",
    "sell_price_ratio_by_name_plot.show()"
   ],
   "id": "c7a8869ead30efae",
   "outputs": [],
   "execution_count": null
  },
  {
   "metadata": {
    "ExecuteTime": {
     "end_time": "2025-09-11T08:46:35.499585Z",
     "start_time": "2025-09-11T08:46:35.436031Z"
    }
   },
   "cell_type": "code",
   "source": [
    "sell_forecast = (\n",
    "    sell_details_agg([\"created_at\", \"name\"])\n",
    "    .select(\"created_at\", \"name\", \"qty\")\n",
    ")\n",
    "\n",
    "sell_forecast_pd = (\n",
    "    sell_forecast.filter(\n",
    "        sell_forecast.name == ITEM_NAME\n",
    "    )\n",
    "    .to_pandas().astype({\n",
    "        \"created_at\": \"datetime64[ns]\",\n",
    "        \"name\": \"category\",\n",
    "        \"qty\": \"int32\"\n",
    "    })\n",
    ")\n",
    "\n",
    "date_index = pd.DatetimeIndex(sell_forecast_pd.created_at)\n",
    "df_with_index = sell_forecast_pd.set_index(date_index)\n",
    "\n",
    "start_date = date_index.min()\n",
    "end_date = date_index.max()\n",
    "# set specify datetime with frequency\n",
    "complete_date_range = pd.date_range(start=start_date, end=end_date, freq='D')\n",
    "\n",
    "# reindexing\n",
    "sell_forecast_pd = df_with_index.reindex(complete_date_range)\n",
    "\n",
    "# fill the rows\n",
    "sell_forecast_pd = sell_forecast_pd.fillna({\n",
    "    'name': sell_forecast_pd[\"name\"].bfill(),\n",
    "    'qty': 0.0\n",
    "})"
   ],
   "id": "ca741e4f2cba554d",
   "outputs": [],
   "execution_count": 67
  },
  {
   "metadata": {
    "ExecuteTime": {
     "end_time": "2025-09-11T08:46:45.890861Z",
     "start_time": "2025-09-11T08:46:45.837897Z"
    }
   },
   "cell_type": "code",
   "source": [
    "# Modelling and Forecasting\n",
    "from lightgbm import LGBMRegressor\n",
    "from skforecast.recursive import ForecasterRecursive\n",
    "\n",
    "# create forecaster\n",
    "forecaster = ForecasterRecursive(\n",
    "    regressor=LGBMRegressor(random_state=int(sell_forecast_pd.name.size / 2), verbose=-1),\n",
    "    lags=(sell_forecast_pd.name.size - 1)\n",
    ")\n",
    "\n",
    "forecaster.fit(y=sell_forecast_pd['qty'])\n",
    "\n",
    "predictions = forecaster.predict(steps=STEP_PREDICTION, last_window=None)\n",
    "predictions = pd.DataFrame(data=predictions)"
   ],
   "id": "1eca7019f259aefa",
   "outputs": [],
   "execution_count": 69
  },
  {
   "metadata": {},
   "cell_type": "code",
   "source": [
    "sell_forecast_plot = go.Figure()\n",
    "\n",
    "sell_forecast_plot_trace1 = go.Scatter(x=sell_forecast_pd.index, y=sell_forecast_pd[\"qty\"], name=\"train\", mode=\"lines\")\n",
    "sell_forecast_plot_trace2 = go.Scatter(x=predictions.index, y=predictions[\"pred\"], name=\"prediction\", mode=\"lines\")\n",
    "sell_forecast_plot.add_trace(sell_forecast_plot_trace1)\n",
    "sell_forecast_plot.add_trace(sell_forecast_plot_trace2)\n",
    "\n",
    "sell_forecast_plot.update_layout(\n",
    "    title=f\"Prediksi Penjualan Produk {ITEM_NAME}\",\n",
    "    title_font_size=16,\n",
    "    xaxis_title=\"Tanggal\",\n",
    "    yaxis_title=\"Total Penjualan\",\n",
    "    height=400,\n",
    "    margin=dict(l=20, r=20, t=35, b=20),\n",
    "    legend=dict(orientation=\"h\", yanchor=\"top\", y=1.01, xanchor=\"left\", x=0)\n",
    ")\n",
    "sell_forecast_plot.show()"
   ],
   "id": "59408d12fe256470",
   "outputs": [],
   "execution_count": null
  },
  {
   "metadata": {},
   "cell_type": "code",
   "source": [
    "mean_of_sell = sum(predictions[\"pred\"].to_numpy()) / len(predictions[\"pred\"].to_numpy())\n",
    "\n",
    "print(f\"Hasil prediksi menunjukan dibutuhkan rata-rata {mean_of_sell} buah item yang siap jual untuk produk {ITEM_NAME}, sehingga memenuhi target penjualan dalam {STEP_PREDICTION} hari kedepan.\")"
   ],
   "id": "48bcdd49f77ab057",
   "outputs": [],
   "execution_count": null
  }
 ],
 "metadata": {
  "kernelspec": {
   "display_name": "Python 3",
   "language": "python",
   "name": "python3"
  },
  "language_info": {
   "codemirror_mode": {
    "name": "ipython",
    "version": 2
   },
   "file_extension": ".py",
   "mimetype": "text/x-python",
   "name": "python",
   "nbconvert_exporter": "python",
   "pygments_lexer": "ipython2",
   "version": "2.7.6"
  }
 },
 "nbformat": 4,
 "nbformat_minor": 5
}
