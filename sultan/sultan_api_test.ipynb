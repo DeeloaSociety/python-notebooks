{
 "cells": [
  {
   "cell_type": "code",
   "id": "initial_id",
   "metadata": {
    "collapsed": true,
    "ExecuteTime": {
     "end_time": "2025-09-27T02:10:56.241362Z",
     "start_time": "2025-09-27T02:10:54.744212Z"
    }
   },
   "source": [
    "from dotenv import load_dotenv\n",
    "\n",
    "import ibis\n",
    "from sultanconnect.dataframe import SultanDataframe\n",
    "\n",
    "load_dotenv()\n",
    "ibis.options.interactive = True"
   ],
   "outputs": [],
   "execution_count": 1
  },
  {
   "metadata": {
    "ExecuteTime": {
     "end_time": "2025-09-27T02:10:58.029711Z",
     "start_time": "2025-09-27T02:10:57.668169Z"
    }
   },
   "cell_type": "code",
   "source": "sultanDataframe = SultanDataframe()",
   "id": "eba2f3ac87cf552b",
   "outputs": [],
   "execution_count": 2
  },
  {
   "metadata": {
    "ExecuteTime": {
     "end_time": "2025-09-19T02:03:45.772193Z",
     "start_time": "2025-09-19T02:03:45.321691Z"
    }
   },
   "cell_type": "code",
   "source": [
    "item = sultanDataframe.item()\n",
    "\n",
    "item.load()"
   ],
   "id": "cbc2d7457dce0f64",
   "outputs": [
    {
     "data": {
      "text/plain": [
       "┏━━━━━━━━━━━━━━┳━━━━━━━━━━━━━━┳━━━━━━━━━━━━━━━━━━━┳━━━━━━━━━━━━━━━━━━━━━┳━━━━━━━━━━━━┳━━━━━━━━━━━━┳━━━━━━━━━━━┳━━━━━━━━━━━━━┳━━━━━━━━━━━━━━━┳━━━━━━━━━━━━┳━━━━━━━━━━━━━━━━━┓\n",
       "┃\u001B[1m \u001B[0m\u001B[1mitem_barcode\u001B[0m\u001B[1m \u001B[0m┃\u001B[1m \u001B[0m\u001B[1mitem_created\u001B[0m\u001B[1m \u001B[0m┃\u001B[1m \u001B[0m\u001B[1mitem_name\u001B[0m\u001B[1m        \u001B[0m\u001B[1m \u001B[0m┃\u001B[1m \u001B[0m\u001B[1mitem_purchase_price\u001B[0m\u001B[1m \u001B[0m┃\u001B[1m \u001B[0m\u001B[1mitem_stock\u001B[0m\u001B[1m \u001B[0m┃\u001B[1m \u001B[0m\u001B[1mitem_unit\u001B[0m\u001B[1m \u001B[0m\u001B[1m \u001B[0m┃\u001B[1m \u001B[0m\u001B[1mitem_flag\u001B[0m\u001B[1m \u001B[0m┃\u001B[1m \u001B[0m\u001B[1mcategory_id\u001B[0m\u001B[1m \u001B[0m┃\u001B[1m \u001B[0m\u001B[1mcategory_name\u001B[0m\u001B[1m \u001B[0m┃\u001B[1m \u001B[0m\u001B[1msuplier_id\u001B[0m\u001B[1m \u001B[0m┃\u001B[1m \u001B[0m\u001B[1msuplier_name\u001B[0m\u001B[1m   \u001B[0m\u001B[1m \u001B[0m┃\n",
       "┡━━━━━━━━━━━━━━╇━━━━━━━━━━━━━━╇━━━━━━━━━━━━━━━━━━━╇━━━━━━━━━━━━━━━━━━━━━╇━━━━━━━━━━━━╇━━━━━━━━━━━━╇━━━━━━━━━━━╇━━━━━━━━━━━━━╇━━━━━━━━━━━━━━━╇━━━━━━━━━━━━╇━━━━━━━━━━━━━━━━━┩\n",
       "│ \u001B[2mstring(64)\u001B[0m   │ \u001B[2mdate\u001B[0m         │ \u001B[2mstring(255)\u001B[0m       │ \u001B[2mfloat64\u001B[0m             │ \u001B[2mfloat64\u001B[0m    │ \u001B[2mstring(64)\u001B[0m │ \u001B[2mint64\u001B[0m     │ \u001B[2mint64\u001B[0m       │ \u001B[2mstring(64)\u001B[0m    │ \u001B[2mint64\u001B[0m      │ \u001B[2mstring(64)\u001B[0m      │\n",
       "├──────────────┼──────────────┼───────────────────┼─────────────────────┼────────────┼────────────┼───────────┼─────────────┼───────────────┼────────────┼─────────────────┤\n",
       "│ \u001B[32m123         \u001B[0m │ \u001B[35m2025-02-14\u001B[0m   │ \u001B[32mROTI ISI COKLAT  \u001B[0m │             \u001B[1;36m1833.33\u001B[0m │        \u001B[1;36m0.0\u001B[0m │ \u001B[32mpcs       \u001B[0m │        \u001B[1;36m89\u001B[0m │           \u001B[1;36m1\u001B[0m │ \u001B[32mFood         \u001B[0m │          \u001B[1;36m1\u001B[0m │ \u001B[32mCV. Sultan Food\u001B[0m │\n",
       "│ \u001B[32m234         \u001B[0m │ \u001B[35m2025-02-14\u001B[0m   │ \u001B[32mKACANG ATOM      \u001B[0m │              \u001B[1;36m900.00\u001B[0m │        \u001B[1;36m0.0\u001B[0m │ \u001B[32mpcs       \u001B[0m │        \u001B[1;36m89\u001B[0m │           \u001B[1;36m2\u001B[0m │ \u001B[32mSnack        \u001B[0m │          \u001B[1;36m1\u001B[0m │ \u001B[32mCV. Sultan Food\u001B[0m │\n",
       "│ \u001B[32m345         \u001B[0m │ \u001B[35m2025-02-14\u001B[0m   │ \u001B[32mCRACKERS         \u001B[0m │             \u001B[1;36m4000.00\u001B[0m │        \u001B[1;36m0.0\u001B[0m │ \u001B[32mpcs       \u001B[0m │        \u001B[1;36m89\u001B[0m │           \u001B[1;36m2\u001B[0m │ \u001B[32mSnack        \u001B[0m │          \u001B[1;36m1\u001B[0m │ \u001B[32mCV. Sultan Food\u001B[0m │\n",
       "│ \u001B[32m456         \u001B[0m │ \u001B[35m2025-02-14\u001B[0m   │ \u001B[32mAIR MINERAL 300ML\u001B[0m │             \u001B[1;36m2200.00\u001B[0m │        \u001B[1;36m4.0\u001B[0m │ \u001B[32mpcs       \u001B[0m │        \u001B[1;36m89\u001B[0m │           \u001B[1;36m3\u001B[0m │ \u001B[32mDrink        \u001B[0m │          \u001B[1;36m1\u001B[0m │ \u001B[32mCV. Sultan Food\u001B[0m │\n",
       "│ \u001B[32m567         \u001B[0m │ \u001B[35m2025-02-14\u001B[0m   │ \u001B[32mAIR MINERAL 150ML\u001B[0m │              \u001B[1;36m400.00\u001B[0m │        \u001B[1;36m0.0\u001B[0m │ \u001B[32mpcs       \u001B[0m │        \u001B[1;36m89\u001B[0m │           \u001B[1;36m3\u001B[0m │ \u001B[32mDrink        \u001B[0m │          \u001B[1;36m1\u001B[0m │ \u001B[32mCV. Sultan Food\u001B[0m │\n",
       "│ \u001B[32m678         \u001B[0m │ \u001B[35m2025-02-14\u001B[0m   │ \u001B[32mROTI ISI KACANG  \u001B[0m │             \u001B[1;36m5500.00\u001B[0m │        \u001B[1;36m0.0\u001B[0m │ \u001B[32mpcs       \u001B[0m │        \u001B[1;36m89\u001B[0m │           \u001B[1;36m1\u001B[0m │ \u001B[32mFood         \u001B[0m │          \u001B[1;36m1\u001B[0m │ \u001B[32mCV. Sultan Food\u001B[0m │\n",
       "│ \u001B[32m333         \u001B[0m │ \u001B[35m2025-06-09\u001B[0m   │ \u001B[32mNasi Goreng      \u001B[0m │                \u001B[1;36m0.00\u001B[0m │        \u001B[1;36m0.0\u001B[0m │ \u001B[32mpiring    \u001B[0m │        \u001B[1;36m64\u001B[0m │           \u001B[1;36m1\u001B[0m │ \u001B[32mFood         \u001B[0m │          \u001B[1;36m1\u001B[0m │ \u001B[32mCV. Sultan Food\u001B[0m │\n",
       "└──────────────┴──────────────┴───────────────────┴─────────────────────┴────────────┴────────────┴───────────┴─────────────┴───────────────┴────────────┴─────────────────┘"
      ],
      "text/html": [
       "<pre style=\"white-space:pre;overflow-x:auto;line-height:normal;font-family:Menlo,'DejaVu Sans Mono',consolas,'Courier New',monospace\">┏━━━━━━━━━━━━━━┳━━━━━━━━━━━━━━┳━━━━━━━━━━━━━━━━━━━┳━━━━━━━━━━━━━━━━━━━━━┳━━━━━━━━━━━━┳━━━━━━━━━━━━┳━━━━━━━━━━━┳━━━━━━━━━━━━━┳━━━━━━━━━━━━━━━┳━━━━━━━━━━━━┳━━━━━━━━━━━━━━━━━┓\n",
       "┃<span style=\"font-weight: bold\"> item_barcode </span>┃<span style=\"font-weight: bold\"> item_created </span>┃<span style=\"font-weight: bold\"> item_name         </span>┃<span style=\"font-weight: bold\"> item_purchase_price </span>┃<span style=\"font-weight: bold\"> item_stock </span>┃<span style=\"font-weight: bold\"> item_unit  </span>┃<span style=\"font-weight: bold\"> item_flag </span>┃<span style=\"font-weight: bold\"> category_id </span>┃<span style=\"font-weight: bold\"> category_name </span>┃<span style=\"font-weight: bold\"> suplier_id </span>┃<span style=\"font-weight: bold\"> suplier_name    </span>┃\n",
       "┡━━━━━━━━━━━━━━╇━━━━━━━━━━━━━━╇━━━━━━━━━━━━━━━━━━━╇━━━━━━━━━━━━━━━━━━━━━╇━━━━━━━━━━━━╇━━━━━━━━━━━━╇━━━━━━━━━━━╇━━━━━━━━━━━━━╇━━━━━━━━━━━━━━━╇━━━━━━━━━━━━╇━━━━━━━━━━━━━━━━━┩\n",
       "│ <span style=\"color: #7f7f7f; text-decoration-color: #7f7f7f\">string(64)</span>   │ <span style=\"color: #7f7f7f; text-decoration-color: #7f7f7f\">date</span>         │ <span style=\"color: #7f7f7f; text-decoration-color: #7f7f7f\">string(255)</span>       │ <span style=\"color: #7f7f7f; text-decoration-color: #7f7f7f\">float64</span>             │ <span style=\"color: #7f7f7f; text-decoration-color: #7f7f7f\">float64</span>    │ <span style=\"color: #7f7f7f; text-decoration-color: #7f7f7f\">string(64)</span> │ <span style=\"color: #7f7f7f; text-decoration-color: #7f7f7f\">int64</span>     │ <span style=\"color: #7f7f7f; text-decoration-color: #7f7f7f\">int64</span>       │ <span style=\"color: #7f7f7f; text-decoration-color: #7f7f7f\">string(64)</span>    │ <span style=\"color: #7f7f7f; text-decoration-color: #7f7f7f\">int64</span>      │ <span style=\"color: #7f7f7f; text-decoration-color: #7f7f7f\">string(64)</span>      │\n",
       "├──────────────┼──────────────┼───────────────────┼─────────────────────┼────────────┼────────────┼───────────┼─────────────┼───────────────┼────────────┼─────────────────┤\n",
       "│ <span style=\"color: #008000; text-decoration-color: #008000\">123         </span> │ <span style=\"color: #800080; text-decoration-color: #800080\">2025-02-14</span>   │ <span style=\"color: #008000; text-decoration-color: #008000\">ROTI ISI COKLAT  </span> │             <span style=\"color: #008080; text-decoration-color: #008080; font-weight: bold\">1833.33</span> │        <span style=\"color: #008080; text-decoration-color: #008080; font-weight: bold\">0.0</span> │ <span style=\"color: #008000; text-decoration-color: #008000\">pcs       </span> │        <span style=\"color: #008080; text-decoration-color: #008080; font-weight: bold\">89</span> │           <span style=\"color: #008080; text-decoration-color: #008080; font-weight: bold\">1</span> │ <span style=\"color: #008000; text-decoration-color: #008000\">Food         </span> │          <span style=\"color: #008080; text-decoration-color: #008080; font-weight: bold\">1</span> │ <span style=\"color: #008000; text-decoration-color: #008000\">CV. Sultan Food</span> │\n",
       "│ <span style=\"color: #008000; text-decoration-color: #008000\">234         </span> │ <span style=\"color: #800080; text-decoration-color: #800080\">2025-02-14</span>   │ <span style=\"color: #008000; text-decoration-color: #008000\">KACANG ATOM      </span> │              <span style=\"color: #008080; text-decoration-color: #008080; font-weight: bold\">900.00</span> │        <span style=\"color: #008080; text-decoration-color: #008080; font-weight: bold\">0.0</span> │ <span style=\"color: #008000; text-decoration-color: #008000\">pcs       </span> │        <span style=\"color: #008080; text-decoration-color: #008080; font-weight: bold\">89</span> │           <span style=\"color: #008080; text-decoration-color: #008080; font-weight: bold\">2</span> │ <span style=\"color: #008000; text-decoration-color: #008000\">Snack        </span> │          <span style=\"color: #008080; text-decoration-color: #008080; font-weight: bold\">1</span> │ <span style=\"color: #008000; text-decoration-color: #008000\">CV. Sultan Food</span> │\n",
       "│ <span style=\"color: #008000; text-decoration-color: #008000\">345         </span> │ <span style=\"color: #800080; text-decoration-color: #800080\">2025-02-14</span>   │ <span style=\"color: #008000; text-decoration-color: #008000\">CRACKERS         </span> │             <span style=\"color: #008080; text-decoration-color: #008080; font-weight: bold\">4000.00</span> │        <span style=\"color: #008080; text-decoration-color: #008080; font-weight: bold\">0.0</span> │ <span style=\"color: #008000; text-decoration-color: #008000\">pcs       </span> │        <span style=\"color: #008080; text-decoration-color: #008080; font-weight: bold\">89</span> │           <span style=\"color: #008080; text-decoration-color: #008080; font-weight: bold\">2</span> │ <span style=\"color: #008000; text-decoration-color: #008000\">Snack        </span> │          <span style=\"color: #008080; text-decoration-color: #008080; font-weight: bold\">1</span> │ <span style=\"color: #008000; text-decoration-color: #008000\">CV. Sultan Food</span> │\n",
       "│ <span style=\"color: #008000; text-decoration-color: #008000\">456         </span> │ <span style=\"color: #800080; text-decoration-color: #800080\">2025-02-14</span>   │ <span style=\"color: #008000; text-decoration-color: #008000\">AIR MINERAL 300ML</span> │             <span style=\"color: #008080; text-decoration-color: #008080; font-weight: bold\">2200.00</span> │        <span style=\"color: #008080; text-decoration-color: #008080; font-weight: bold\">4.0</span> │ <span style=\"color: #008000; text-decoration-color: #008000\">pcs       </span> │        <span style=\"color: #008080; text-decoration-color: #008080; font-weight: bold\">89</span> │           <span style=\"color: #008080; text-decoration-color: #008080; font-weight: bold\">3</span> │ <span style=\"color: #008000; text-decoration-color: #008000\">Drink        </span> │          <span style=\"color: #008080; text-decoration-color: #008080; font-weight: bold\">1</span> │ <span style=\"color: #008000; text-decoration-color: #008000\">CV. Sultan Food</span> │\n",
       "│ <span style=\"color: #008000; text-decoration-color: #008000\">567         </span> │ <span style=\"color: #800080; text-decoration-color: #800080\">2025-02-14</span>   │ <span style=\"color: #008000; text-decoration-color: #008000\">AIR MINERAL 150ML</span> │              <span style=\"color: #008080; text-decoration-color: #008080; font-weight: bold\">400.00</span> │        <span style=\"color: #008080; text-decoration-color: #008080; font-weight: bold\">0.0</span> │ <span style=\"color: #008000; text-decoration-color: #008000\">pcs       </span> │        <span style=\"color: #008080; text-decoration-color: #008080; font-weight: bold\">89</span> │           <span style=\"color: #008080; text-decoration-color: #008080; font-weight: bold\">3</span> │ <span style=\"color: #008000; text-decoration-color: #008000\">Drink        </span> │          <span style=\"color: #008080; text-decoration-color: #008080; font-weight: bold\">1</span> │ <span style=\"color: #008000; text-decoration-color: #008000\">CV. Sultan Food</span> │\n",
       "│ <span style=\"color: #008000; text-decoration-color: #008000\">678         </span> │ <span style=\"color: #800080; text-decoration-color: #800080\">2025-02-14</span>   │ <span style=\"color: #008000; text-decoration-color: #008000\">ROTI ISI KACANG  </span> │             <span style=\"color: #008080; text-decoration-color: #008080; font-weight: bold\">5500.00</span> │        <span style=\"color: #008080; text-decoration-color: #008080; font-weight: bold\">0.0</span> │ <span style=\"color: #008000; text-decoration-color: #008000\">pcs       </span> │        <span style=\"color: #008080; text-decoration-color: #008080; font-weight: bold\">89</span> │           <span style=\"color: #008080; text-decoration-color: #008080; font-weight: bold\">1</span> │ <span style=\"color: #008000; text-decoration-color: #008000\">Food         </span> │          <span style=\"color: #008080; text-decoration-color: #008080; font-weight: bold\">1</span> │ <span style=\"color: #008000; text-decoration-color: #008000\">CV. Sultan Food</span> │\n",
       "│ <span style=\"color: #008000; text-decoration-color: #008000\">333         </span> │ <span style=\"color: #800080; text-decoration-color: #800080\">2025-06-09</span>   │ <span style=\"color: #008000; text-decoration-color: #008000\">Nasi Goreng      </span> │                <span style=\"color: #008080; text-decoration-color: #008080; font-weight: bold\">0.00</span> │        <span style=\"color: #008080; text-decoration-color: #008080; font-weight: bold\">0.0</span> │ <span style=\"color: #008000; text-decoration-color: #008000\">piring    </span> │        <span style=\"color: #008080; text-decoration-color: #008080; font-weight: bold\">64</span> │           <span style=\"color: #008080; text-decoration-color: #008080; font-weight: bold\">1</span> │ <span style=\"color: #008000; text-decoration-color: #008000\">Food         </span> │          <span style=\"color: #008080; text-decoration-color: #008080; font-weight: bold\">1</span> │ <span style=\"color: #008000; text-decoration-color: #008000\">CV. Sultan Food</span> │\n",
       "└──────────────┴──────────────┴───────────────────┴─────────────────────┴────────────┴────────────┴───────────┴─────────────┴───────────────┴────────────┴─────────────────┘\n",
       "</pre>\n"
      ]
     },
     "execution_count": 3,
     "metadata": {},
     "output_type": "execute_result"
    }
   ],
   "execution_count": 3
  },
  {
   "metadata": {
    "ExecuteTime": {
     "end_time": "2025-09-19T02:03:50.333883Z",
     "start_time": "2025-09-19T02:03:49.597899Z"
    }
   },
   "cell_type": "code",
   "source": [
    "inventory = (\n",
    "    sultanDataframe.inventory()\n",
    "    .between(\"2025-01-1\", \"2025-06-30\")\n",
    ")\n",
    "\n",
    "inventory.load()"
   ],
   "id": "9282700a26df7065",
   "outputs": [
    {
     "data": {
      "text/plain": [
       "┏━━━━━━━━━━━━━━┳━━━━━━━━━━━━━━┳━━━━━━━━━━━━━━━━━━━┳━━━━━━━━━━━┳━━━━━━━━━━━━━━━━━━━━━┳━━━━━━━━━━━━━━━━━┳━━━━━━━━━━━━┳━━━━━━━━━━━━┳━━━━━━━━━━━━━━━┳━━━━━━━━━━━━━━━━━┳━━━━━━━━━━━━━┓\n",
       "┃\u001B[1m \u001B[0m\u001B[1mitem_barcode\u001B[0m\u001B[1m \u001B[0m┃\u001B[1m \u001B[0m\u001B[1mitem_created\u001B[0m\u001B[1m \u001B[0m┃\u001B[1m \u001B[0m\u001B[1mitem_name\u001B[0m\u001B[1m        \u001B[0m\u001B[1m \u001B[0m┃\u001B[1m \u001B[0m\u001B[1mitem_flag\u001B[0m\u001B[1m \u001B[0m┃\u001B[1m \u001B[0m\u001B[1mitem_purchase_price\u001B[0m\u001B[1m \u001B[0m┃\u001B[1m \u001B[0m\u001B[1mitem_sell_price\u001B[0m\u001B[1m \u001B[0m┃\u001B[1m \u001B[0m\u001B[1mitem_stock\u001B[0m\u001B[1m \u001B[0m┃\u001B[1m \u001B[0m\u001B[1mitem_unit\u001B[0m\u001B[1m \u001B[0m\u001B[1m \u001B[0m┃\u001B[1m \u001B[0m\u001B[1mcategory_name\u001B[0m\u001B[1m \u001B[0m┃\u001B[1m \u001B[0m\u001B[1msuplier_name\u001B[0m\u001B[1m   \u001B[0m\u001B[1m \u001B[0m┃\u001B[1m \u001B[0m\u001B[1mtotal_sales\u001B[0m\u001B[1m \u001B[0m┃\n",
       "┡━━━━━━━━━━━━━━╇━━━━━━━━━━━━━━╇━━━━━━━━━━━━━━━━━━━╇━━━━━━━━━━━╇━━━━━━━━━━━━━━━━━━━━━╇━━━━━━━━━━━━━━━━━╇━━━━━━━━━━━━╇━━━━━━━━━━━━╇━━━━━━━━━━━━━━━╇━━━━━━━━━━━━━━━━━╇━━━━━━━━━━━━━┩\n",
       "│ \u001B[2mstring(64)\u001B[0m   │ \u001B[2mdate\u001B[0m         │ \u001B[2mstring(255)\u001B[0m       │ \u001B[2mint64\u001B[0m     │ \u001B[2mfloat64\u001B[0m             │ \u001B[2mfloat64\u001B[0m         │ \u001B[2mfloat64\u001B[0m    │ \u001B[2mstring(64)\u001B[0m │ \u001B[2mstring(64)\u001B[0m    │ \u001B[2mstring(64)\u001B[0m      │ \u001B[2mfloat64\u001B[0m     │\n",
       "├──────────────┼──────────────┼───────────────────┼───────────┼─────────────────────┼─────────────────┼────────────┼────────────┼───────────────┼─────────────────┼─────────────┤\n",
       "│ \u001B[32m123         \u001B[0m │ \u001B[35m2025-02-14\u001B[0m   │ \u001B[32mROTI ISI COKLAT  \u001B[0m │        \u001B[1;36m89\u001B[0m │             \u001B[1;36m1833.33\u001B[0m │          \u001B[1;36m6000.0\u001B[0m │        \u001B[1;36m0.0\u001B[0m │ \u001B[32mpcs       \u001B[0m │ \u001B[32mFood         \u001B[0m │ \u001B[32mCV. Sultan Food\u001B[0m │         \u001B[1;36m7.0\u001B[0m │\n",
       "│ \u001B[32m456         \u001B[0m │ \u001B[35m2025-02-14\u001B[0m   │ \u001B[32mAIR MINERAL 300ML\u001B[0m │        \u001B[1;36m89\u001B[0m │             \u001B[1;36m2200.00\u001B[0m │          \u001B[1;36m2500.0\u001B[0m │        \u001B[1;36m4.0\u001B[0m │ \u001B[32mpcs       \u001B[0m │ \u001B[32mDrink        \u001B[0m │ \u001B[32mCV. Sultan Food\u001B[0m │         \u001B[1;36m1.0\u001B[0m │\n",
       "│ \u001B[32m234         \u001B[0m │ \u001B[35m2025-02-14\u001B[0m   │ \u001B[32mKACANG ATOM      \u001B[0m │        \u001B[1;36m89\u001B[0m │              \u001B[1;36m900.00\u001B[0m │          \u001B[1;36m1000.0\u001B[0m │        \u001B[1;36m0.0\u001B[0m │ \u001B[32mpcs       \u001B[0m │ \u001B[32mSnack        \u001B[0m │ \u001B[32mCV. Sultan Food\u001B[0m │         \u001B[1;36m0.0\u001B[0m │\n",
       "│ \u001B[32m333         \u001B[0m │ \u001B[35m2025-06-09\u001B[0m   │ \u001B[32mNasi Goreng      \u001B[0m │        \u001B[1;36m64\u001B[0m │                \u001B[1;36m0.00\u001B[0m │         \u001B[1;36m10000.0\u001B[0m │        \u001B[1;36m0.0\u001B[0m │ \u001B[32mpiring    \u001B[0m │ \u001B[32mFood         \u001B[0m │ \u001B[32mCV. Sultan Food\u001B[0m │         \u001B[1;36m0.0\u001B[0m │\n",
       "│ \u001B[32m345         \u001B[0m │ \u001B[35m2025-02-14\u001B[0m   │ \u001B[32mCRACKERS         \u001B[0m │        \u001B[1;36m89\u001B[0m │             \u001B[1;36m4000.00\u001B[0m │          \u001B[1;36m4500.0\u001B[0m │        \u001B[1;36m0.0\u001B[0m │ \u001B[32mpcs       \u001B[0m │ \u001B[32mSnack        \u001B[0m │ \u001B[32mCV. Sultan Food\u001B[0m │         \u001B[1;36m0.0\u001B[0m │\n",
       "│ \u001B[32m567         \u001B[0m │ \u001B[35m2025-02-14\u001B[0m   │ \u001B[32mAIR MINERAL 150ML\u001B[0m │        \u001B[1;36m89\u001B[0m │              \u001B[1;36m400.00\u001B[0m │           \u001B[1;36m500.0\u001B[0m │        \u001B[1;36m0.0\u001B[0m │ \u001B[32mpcs       \u001B[0m │ \u001B[32mDrink        \u001B[0m │ \u001B[32mCV. Sultan Food\u001B[0m │         \u001B[1;36m0.0\u001B[0m │\n",
       "│ \u001B[32m678         \u001B[0m │ \u001B[35m2025-02-14\u001B[0m   │ \u001B[32mROTI ISI KACANG  \u001B[0m │        \u001B[1;36m89\u001B[0m │             \u001B[1;36m5500.00\u001B[0m │          \u001B[1;36m6000.0\u001B[0m │        \u001B[1;36m0.0\u001B[0m │ \u001B[32mpcs       \u001B[0m │ \u001B[32mFood         \u001B[0m │ \u001B[32mCV. Sultan Food\u001B[0m │         \u001B[1;36m0.0\u001B[0m │\n",
       "└──────────────┴──────────────┴───────────────────┴───────────┴─────────────────────┴─────────────────┴────────────┴────────────┴───────────────┴─────────────────┴─────────────┘"
      ],
      "text/html": [
       "<pre style=\"white-space:pre;overflow-x:auto;line-height:normal;font-family:Menlo,'DejaVu Sans Mono',consolas,'Courier New',monospace\">┏━━━━━━━━━━━━━━┳━━━━━━━━━━━━━━┳━━━━━━━━━━━━━━━━━━━┳━━━━━━━━━━━┳━━━━━━━━━━━━━━━━━━━━━┳━━━━━━━━━━━━━━━━━┳━━━━━━━━━━━━┳━━━━━━━━━━━━┳━━━━━━━━━━━━━━━┳━━━━━━━━━━━━━━━━━┳━━━━━━━━━━━━━┓\n",
       "┃<span style=\"font-weight: bold\"> item_barcode </span>┃<span style=\"font-weight: bold\"> item_created </span>┃<span style=\"font-weight: bold\"> item_name         </span>┃<span style=\"font-weight: bold\"> item_flag </span>┃<span style=\"font-weight: bold\"> item_purchase_price </span>┃<span style=\"font-weight: bold\"> item_sell_price </span>┃<span style=\"font-weight: bold\"> item_stock </span>┃<span style=\"font-weight: bold\"> item_unit  </span>┃<span style=\"font-weight: bold\"> category_name </span>┃<span style=\"font-weight: bold\"> suplier_name    </span>┃<span style=\"font-weight: bold\"> total_sales </span>┃\n",
       "┡━━━━━━━━━━━━━━╇━━━━━━━━━━━━━━╇━━━━━━━━━━━━━━━━━━━╇━━━━━━━━━━━╇━━━━━━━━━━━━━━━━━━━━━╇━━━━━━━━━━━━━━━━━╇━━━━━━━━━━━━╇━━━━━━━━━━━━╇━━━━━━━━━━━━━━━╇━━━━━━━━━━━━━━━━━╇━━━━━━━━━━━━━┩\n",
       "│ <span style=\"color: #7f7f7f; text-decoration-color: #7f7f7f\">string(64)</span>   │ <span style=\"color: #7f7f7f; text-decoration-color: #7f7f7f\">date</span>         │ <span style=\"color: #7f7f7f; text-decoration-color: #7f7f7f\">string(255)</span>       │ <span style=\"color: #7f7f7f; text-decoration-color: #7f7f7f\">int64</span>     │ <span style=\"color: #7f7f7f; text-decoration-color: #7f7f7f\">float64</span>             │ <span style=\"color: #7f7f7f; text-decoration-color: #7f7f7f\">float64</span>         │ <span style=\"color: #7f7f7f; text-decoration-color: #7f7f7f\">float64</span>    │ <span style=\"color: #7f7f7f; text-decoration-color: #7f7f7f\">string(64)</span> │ <span style=\"color: #7f7f7f; text-decoration-color: #7f7f7f\">string(64)</span>    │ <span style=\"color: #7f7f7f; text-decoration-color: #7f7f7f\">string(64)</span>      │ <span style=\"color: #7f7f7f; text-decoration-color: #7f7f7f\">float64</span>     │\n",
       "├──────────────┼──────────────┼───────────────────┼───────────┼─────────────────────┼─────────────────┼────────────┼────────────┼───────────────┼─────────────────┼─────────────┤\n",
       "│ <span style=\"color: #008000; text-decoration-color: #008000\">123         </span> │ <span style=\"color: #800080; text-decoration-color: #800080\">2025-02-14</span>   │ <span style=\"color: #008000; text-decoration-color: #008000\">ROTI ISI COKLAT  </span> │        <span style=\"color: #008080; text-decoration-color: #008080; font-weight: bold\">89</span> │             <span style=\"color: #008080; text-decoration-color: #008080; font-weight: bold\">1833.33</span> │          <span style=\"color: #008080; text-decoration-color: #008080; font-weight: bold\">6000.0</span> │        <span style=\"color: #008080; text-decoration-color: #008080; font-weight: bold\">0.0</span> │ <span style=\"color: #008000; text-decoration-color: #008000\">pcs       </span> │ <span style=\"color: #008000; text-decoration-color: #008000\">Food         </span> │ <span style=\"color: #008000; text-decoration-color: #008000\">CV. Sultan Food</span> │         <span style=\"color: #008080; text-decoration-color: #008080; font-weight: bold\">7.0</span> │\n",
       "│ <span style=\"color: #008000; text-decoration-color: #008000\">456         </span> │ <span style=\"color: #800080; text-decoration-color: #800080\">2025-02-14</span>   │ <span style=\"color: #008000; text-decoration-color: #008000\">AIR MINERAL 300ML</span> │        <span style=\"color: #008080; text-decoration-color: #008080; font-weight: bold\">89</span> │             <span style=\"color: #008080; text-decoration-color: #008080; font-weight: bold\">2200.00</span> │          <span style=\"color: #008080; text-decoration-color: #008080; font-weight: bold\">2500.0</span> │        <span style=\"color: #008080; text-decoration-color: #008080; font-weight: bold\">4.0</span> │ <span style=\"color: #008000; text-decoration-color: #008000\">pcs       </span> │ <span style=\"color: #008000; text-decoration-color: #008000\">Drink        </span> │ <span style=\"color: #008000; text-decoration-color: #008000\">CV. Sultan Food</span> │         <span style=\"color: #008080; text-decoration-color: #008080; font-weight: bold\">1.0</span> │\n",
       "│ <span style=\"color: #008000; text-decoration-color: #008000\">234         </span> │ <span style=\"color: #800080; text-decoration-color: #800080\">2025-02-14</span>   │ <span style=\"color: #008000; text-decoration-color: #008000\">KACANG ATOM      </span> │        <span style=\"color: #008080; text-decoration-color: #008080; font-weight: bold\">89</span> │              <span style=\"color: #008080; text-decoration-color: #008080; font-weight: bold\">900.00</span> │          <span style=\"color: #008080; text-decoration-color: #008080; font-weight: bold\">1000.0</span> │        <span style=\"color: #008080; text-decoration-color: #008080; font-weight: bold\">0.0</span> │ <span style=\"color: #008000; text-decoration-color: #008000\">pcs       </span> │ <span style=\"color: #008000; text-decoration-color: #008000\">Snack        </span> │ <span style=\"color: #008000; text-decoration-color: #008000\">CV. Sultan Food</span> │         <span style=\"color: #008080; text-decoration-color: #008080; font-weight: bold\">0.0</span> │\n",
       "│ <span style=\"color: #008000; text-decoration-color: #008000\">333         </span> │ <span style=\"color: #800080; text-decoration-color: #800080\">2025-06-09</span>   │ <span style=\"color: #008000; text-decoration-color: #008000\">Nasi Goreng      </span> │        <span style=\"color: #008080; text-decoration-color: #008080; font-weight: bold\">64</span> │                <span style=\"color: #008080; text-decoration-color: #008080; font-weight: bold\">0.00</span> │         <span style=\"color: #008080; text-decoration-color: #008080; font-weight: bold\">10000.0</span> │        <span style=\"color: #008080; text-decoration-color: #008080; font-weight: bold\">0.0</span> │ <span style=\"color: #008000; text-decoration-color: #008000\">piring    </span> │ <span style=\"color: #008000; text-decoration-color: #008000\">Food         </span> │ <span style=\"color: #008000; text-decoration-color: #008000\">CV. Sultan Food</span> │         <span style=\"color: #008080; text-decoration-color: #008080; font-weight: bold\">0.0</span> │\n",
       "│ <span style=\"color: #008000; text-decoration-color: #008000\">345         </span> │ <span style=\"color: #800080; text-decoration-color: #800080\">2025-02-14</span>   │ <span style=\"color: #008000; text-decoration-color: #008000\">CRACKERS         </span> │        <span style=\"color: #008080; text-decoration-color: #008080; font-weight: bold\">89</span> │             <span style=\"color: #008080; text-decoration-color: #008080; font-weight: bold\">4000.00</span> │          <span style=\"color: #008080; text-decoration-color: #008080; font-weight: bold\">4500.0</span> │        <span style=\"color: #008080; text-decoration-color: #008080; font-weight: bold\">0.0</span> │ <span style=\"color: #008000; text-decoration-color: #008000\">pcs       </span> │ <span style=\"color: #008000; text-decoration-color: #008000\">Snack        </span> │ <span style=\"color: #008000; text-decoration-color: #008000\">CV. Sultan Food</span> │         <span style=\"color: #008080; text-decoration-color: #008080; font-weight: bold\">0.0</span> │\n",
       "│ <span style=\"color: #008000; text-decoration-color: #008000\">567         </span> │ <span style=\"color: #800080; text-decoration-color: #800080\">2025-02-14</span>   │ <span style=\"color: #008000; text-decoration-color: #008000\">AIR MINERAL 150ML</span> │        <span style=\"color: #008080; text-decoration-color: #008080; font-weight: bold\">89</span> │              <span style=\"color: #008080; text-decoration-color: #008080; font-weight: bold\">400.00</span> │           <span style=\"color: #008080; text-decoration-color: #008080; font-weight: bold\">500.0</span> │        <span style=\"color: #008080; text-decoration-color: #008080; font-weight: bold\">0.0</span> │ <span style=\"color: #008000; text-decoration-color: #008000\">pcs       </span> │ <span style=\"color: #008000; text-decoration-color: #008000\">Drink        </span> │ <span style=\"color: #008000; text-decoration-color: #008000\">CV. Sultan Food</span> │         <span style=\"color: #008080; text-decoration-color: #008080; font-weight: bold\">0.0</span> │\n",
       "│ <span style=\"color: #008000; text-decoration-color: #008000\">678         </span> │ <span style=\"color: #800080; text-decoration-color: #800080\">2025-02-14</span>   │ <span style=\"color: #008000; text-decoration-color: #008000\">ROTI ISI KACANG  </span> │        <span style=\"color: #008080; text-decoration-color: #008080; font-weight: bold\">89</span> │             <span style=\"color: #008080; text-decoration-color: #008080; font-weight: bold\">5500.00</span> │          <span style=\"color: #008080; text-decoration-color: #008080; font-weight: bold\">6000.0</span> │        <span style=\"color: #008080; text-decoration-color: #008080; font-weight: bold\">0.0</span> │ <span style=\"color: #008000; text-decoration-color: #008000\">pcs       </span> │ <span style=\"color: #008000; text-decoration-color: #008000\">Food         </span> │ <span style=\"color: #008000; text-decoration-color: #008000\">CV. Sultan Food</span> │         <span style=\"color: #008080; text-decoration-color: #008080; font-weight: bold\">0.0</span> │\n",
       "└──────────────┴──────────────┴───────────────────┴───────────┴─────────────────────┴─────────────────┴────────────┴────────────┴───────────────┴─────────────────┴─────────────┘\n",
       "</pre>\n"
      ]
     },
     "execution_count": 4,
     "metadata": {},
     "output_type": "execute_result"
    }
   ],
   "execution_count": 4
  },
  {
   "metadata": {
    "ExecuteTime": {
     "end_time": "2025-09-19T02:05:36.777948Z",
     "start_time": "2025-09-19T02:05:36.389780Z"
    }
   },
   "cell_type": "code",
   "source": [
    "selling = (\n",
    "    sultanDataframe.selling()\n",
    "    .filter().between(\"2025-06-1\", \"2025-06-30\")\n",
    ")\n",
    "\n",
    "selling.load()"
   ],
   "id": "b402619d2390992",
   "outputs": [
    {
     "data": {
      "text/plain": [
       "┏━━━━━━━━━━━━━━━━━━┳━━━━━━━━━━━━━━┳━━━━━━━━━━━━━━━━━┳━━━━━━━━━━━━┳━━━━━━━━━━━━━━━━━━━━━┳━━━━━━━━━━━━━━━━━┳━━━━━━━━━━━━━━━┳━━━━━━━━━━━━┳━━━━━━━━━━━━━━━━━━━━┓\n",
       "┃\u001B[1m \u001B[0m\u001B[1msolditem_created\u001B[0m\u001B[1m \u001B[0m┃\u001B[1m \u001B[0m\u001B[1mitem_barcode\u001B[0m\u001B[1m \u001B[0m┃\u001B[1m \u001B[0m\u001B[1mitem_name\u001B[0m\u001B[1m      \u001B[0m\u001B[1m \u001B[0m┃\u001B[1m \u001B[0m\u001B[1mitem_unit\u001B[0m\u001B[1m \u001B[0m\u001B[1m \u001B[0m┃\u001B[1m \u001B[0m\u001B[1mitem_purchase_price\u001B[0m\u001B[1m \u001B[0m┃\u001B[1m \u001B[0m\u001B[1mitem_sale_price\u001B[0m\u001B[1m \u001B[0m┃\u001B[1m \u001B[0m\u001B[1mitem_quantity\u001B[0m\u001B[1m \u001B[0m┃\u001B[1m \u001B[0m\u001B[1mitem_total\u001B[0m\u001B[1m \u001B[0m┃\u001B[1m \u001B[0m\u001B[1mitem_profit_margin\u001B[0m\u001B[1m \u001B[0m┃\n",
       "┡━━━━━━━━━━━━━━━━━━╇━━━━━━━━━━━━━━╇━━━━━━━━━━━━━━━━━╇━━━━━━━━━━━━╇━━━━━━━━━━━━━━━━━━━━━╇━━━━━━━━━━━━━━━━━╇━━━━━━━━━━━━━━━╇━━━━━━━━━━━━╇━━━━━━━━━━━━━━━━━━━━┩\n",
       "│ \u001B[2mdate\u001B[0m             │ \u001B[2mstring(64)\u001B[0m   │ \u001B[2mstring(255)\u001B[0m     │ \u001B[2mstring(64)\u001B[0m │ \u001B[2mfloat64\u001B[0m             │ \u001B[2mfloat64\u001B[0m         │ \u001B[2mfloat64\u001B[0m       │ \u001B[2mfloat64\u001B[0m    │ \u001B[2mfloat64\u001B[0m            │\n",
       "├──────────────────┼──────────────┼─────────────────┼────────────┼─────────────────────┼─────────────────┼───────────────┼────────────┼────────────────────┤\n",
       "│ \u001B[35m2025-06-11\u001B[0m       │ \u001B[32m123         \u001B[0m │ \u001B[32mROTI ISI COKLAT\u001B[0m │ \u001B[32mpcs       \u001B[0m │             \u001B[1;36m5500.00\u001B[0m │          \u001B[1;36m6000.0\u001B[0m │           \u001B[1;36m1.0\u001B[0m │     \u001B[1;36m6000.0\u001B[0m │             \u001B[1;36m500.00\u001B[0m │\n",
       "│ \u001B[35m2025-06-18\u001B[0m       │ \u001B[32m123         \u001B[0m │ \u001B[32mROTI ISI COKLAT\u001B[0m │ \u001B[32mpcs       \u001B[0m │             \u001B[1;36m1833.33\u001B[0m │          \u001B[1;36m6000.0\u001B[0m │           \u001B[1;36m1.0\u001B[0m │     \u001B[1;36m6000.0\u001B[0m │            \u001B[1;36m4166.67\u001B[0m │\n",
       "│ \u001B[35m2025-06-18\u001B[0m       │ \u001B[32m123         \u001B[0m │ \u001B[32mROTI ISI COKLAT\u001B[0m │ \u001B[32mpcs       \u001B[0m │             \u001B[1;36m3666.66\u001B[0m │          \u001B[1;36m6000.0\u001B[0m │           \u001B[1;36m2.0\u001B[0m │    \u001B[1;36m12000.0\u001B[0m │            \u001B[1;36m4666.68\u001B[0m │\n",
       "└──────────────────┴──────────────┴─────────────────┴────────────┴─────────────────────┴─────────────────┴───────────────┴────────────┴────────────────────┘"
      ],
      "text/html": [
       "<pre style=\"white-space:pre;overflow-x:auto;line-height:normal;font-family:Menlo,'DejaVu Sans Mono',consolas,'Courier New',monospace\">┏━━━━━━━━━━━━━━━━━━┳━━━━━━━━━━━━━━┳━━━━━━━━━━━━━━━━━┳━━━━━━━━━━━━┳━━━━━━━━━━━━━━━━━━━━━┳━━━━━━━━━━━━━━━━━┳━━━━━━━━━━━━━━━┳━━━━━━━━━━━━┳━━━━━━━━━━━━━━━━━━━━┓\n",
       "┃<span style=\"font-weight: bold\"> solditem_created </span>┃<span style=\"font-weight: bold\"> item_barcode </span>┃<span style=\"font-weight: bold\"> item_name       </span>┃<span style=\"font-weight: bold\"> item_unit  </span>┃<span style=\"font-weight: bold\"> item_purchase_price </span>┃<span style=\"font-weight: bold\"> item_sale_price </span>┃<span style=\"font-weight: bold\"> item_quantity </span>┃<span style=\"font-weight: bold\"> item_total </span>┃<span style=\"font-weight: bold\"> item_profit_margin </span>┃\n",
       "┡━━━━━━━━━━━━━━━━━━╇━━━━━━━━━━━━━━╇━━━━━━━━━━━━━━━━━╇━━━━━━━━━━━━╇━━━━━━━━━━━━━━━━━━━━━╇━━━━━━━━━━━━━━━━━╇━━━━━━━━━━━━━━━╇━━━━━━━━━━━━╇━━━━━━━━━━━━━━━━━━━━┩\n",
       "│ <span style=\"color: #7f7f7f; text-decoration-color: #7f7f7f\">date</span>             │ <span style=\"color: #7f7f7f; text-decoration-color: #7f7f7f\">string(64)</span>   │ <span style=\"color: #7f7f7f; text-decoration-color: #7f7f7f\">string(255)</span>     │ <span style=\"color: #7f7f7f; text-decoration-color: #7f7f7f\">string(64)</span> │ <span style=\"color: #7f7f7f; text-decoration-color: #7f7f7f\">float64</span>             │ <span style=\"color: #7f7f7f; text-decoration-color: #7f7f7f\">float64</span>         │ <span style=\"color: #7f7f7f; text-decoration-color: #7f7f7f\">float64</span>       │ <span style=\"color: #7f7f7f; text-decoration-color: #7f7f7f\">float64</span>    │ <span style=\"color: #7f7f7f; text-decoration-color: #7f7f7f\">float64</span>            │\n",
       "├──────────────────┼──────────────┼─────────────────┼────────────┼─────────────────────┼─────────────────┼───────────────┼────────────┼────────────────────┤\n",
       "│ <span style=\"color: #800080; text-decoration-color: #800080\">2025-06-11</span>       │ <span style=\"color: #008000; text-decoration-color: #008000\">123         </span> │ <span style=\"color: #008000; text-decoration-color: #008000\">ROTI ISI COKLAT</span> │ <span style=\"color: #008000; text-decoration-color: #008000\">pcs       </span> │             <span style=\"color: #008080; text-decoration-color: #008080; font-weight: bold\">5500.00</span> │          <span style=\"color: #008080; text-decoration-color: #008080; font-weight: bold\">6000.0</span> │           <span style=\"color: #008080; text-decoration-color: #008080; font-weight: bold\">1.0</span> │     <span style=\"color: #008080; text-decoration-color: #008080; font-weight: bold\">6000.0</span> │             <span style=\"color: #008080; text-decoration-color: #008080; font-weight: bold\">500.00</span> │\n",
       "│ <span style=\"color: #800080; text-decoration-color: #800080\">2025-06-18</span>       │ <span style=\"color: #008000; text-decoration-color: #008000\">123         </span> │ <span style=\"color: #008000; text-decoration-color: #008000\">ROTI ISI COKLAT</span> │ <span style=\"color: #008000; text-decoration-color: #008000\">pcs       </span> │             <span style=\"color: #008080; text-decoration-color: #008080; font-weight: bold\">1833.33</span> │          <span style=\"color: #008080; text-decoration-color: #008080; font-weight: bold\">6000.0</span> │           <span style=\"color: #008080; text-decoration-color: #008080; font-weight: bold\">1.0</span> │     <span style=\"color: #008080; text-decoration-color: #008080; font-weight: bold\">6000.0</span> │            <span style=\"color: #008080; text-decoration-color: #008080; font-weight: bold\">4166.67</span> │\n",
       "│ <span style=\"color: #800080; text-decoration-color: #800080\">2025-06-18</span>       │ <span style=\"color: #008000; text-decoration-color: #008000\">123         </span> │ <span style=\"color: #008000; text-decoration-color: #008000\">ROTI ISI COKLAT</span> │ <span style=\"color: #008000; text-decoration-color: #008000\">pcs       </span> │             <span style=\"color: #008080; text-decoration-color: #008080; font-weight: bold\">3666.66</span> │          <span style=\"color: #008080; text-decoration-color: #008080; font-weight: bold\">6000.0</span> │           <span style=\"color: #008080; text-decoration-color: #008080; font-weight: bold\">2.0</span> │    <span style=\"color: #008080; text-decoration-color: #008080; font-weight: bold\">12000.0</span> │            <span style=\"color: #008080; text-decoration-color: #008080; font-weight: bold\">4666.68</span> │\n",
       "└──────────────────┴──────────────┴─────────────────┴────────────┴─────────────────────┴─────────────────┴───────────────┴────────────┴────────────────────┘\n",
       "</pre>\n"
      ]
     },
     "execution_count": 9,
     "metadata": {},
     "output_type": "execute_result"
    }
   ],
   "execution_count": 9
  },
  {
   "metadata": {
    "ExecuteTime": {
     "end_time": "2025-09-19T02:13:32.754842Z",
     "start_time": "2025-09-19T02:13:32.535341Z"
    }
   },
   "cell_type": "code",
   "source": "sultanDataframe.selling().filter().between().itemName().load()",
   "id": "80233033a34f6c5f",
   "outputs": [
    {
     "data": {
      "text/plain": [
       "44500.0"
      ]
     },
     "execution_count": 13,
     "metadata": {},
     "output_type": "execute_result"
    }
   ],
   "execution_count": 13
  }
 ],
 "metadata": {
  "kernelspec": {
   "display_name": "Python 3",
   "language": "python",
   "name": "python3"
  },
  "language_info": {
   "codemirror_mode": {
    "name": "ipython",
    "version": 2
   },
   "file_extension": ".py",
   "mimetype": "text/x-python",
   "name": "python",
   "nbconvert_exporter": "python",
   "pygments_lexer": "ipython2",
   "version": "2.7.6"
  }
 },
 "nbformat": 4,
 "nbformat_minor": 5
}
