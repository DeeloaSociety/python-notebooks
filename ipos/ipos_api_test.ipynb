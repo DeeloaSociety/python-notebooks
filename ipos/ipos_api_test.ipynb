{
 "cells": [
  {
   "cell_type": "code",
   "id": "initial_id",
   "metadata": {
    "collapsed": true,
    "ExecuteTime": {
     "end_time": "2025-10-02T09:09:59.861666Z",
     "start_time": "2025-10-02T09:09:58.770386Z"
    }
   },
   "source": [
    "from dotenv import load_dotenv\n",
    "\n",
    "import ibis\n",
    "import numpy as np\n",
    "from format_currency import format_currency\n",
    "from iposconnect.dataframe import IposDataframe\n",
    "\n",
    "load_dotenv()\n",
    "ibis.options.interactive = True"
   ],
   "outputs": [],
   "execution_count": 1
  },
  {
   "metadata": {
    "ExecuteTime": {
     "end_time": "2025-10-02T09:10:02.066046Z",
     "start_time": "2025-10-02T09:10:01.382517Z"
    }
   },
   "cell_type": "code",
   "source": "iposDataframe = IposDataframe()",
   "id": "eba2f3ac87cf552b",
   "outputs": [],
   "execution_count": 2
  },
  {
   "metadata": {
    "ExecuteTime": {
     "end_time": "2025-10-02T09:10:09.614971Z",
     "start_time": "2025-10-02T09:10:09.243407Z"
    }
   },
   "cell_type": "code",
   "source": [
    "itemStock = iposDataframe.itemStock()\n",
    "\n",
    "itemStock.parts().load()"
   ],
   "id": "cbc2d7457dce0f64",
   "outputs": [
    {
     "data": {
      "text/plain": [
       "┏━━━━━━━━━━━━━━━━━━━━━━━━━━━━━━━━━━━━━━━━━┳━━━━━━━━━━━━┳━━━━━━━━━┳━━━━━━━━━━━━━━━━━━━━━━━━┓\n",
       "┃\u001B[1m \u001B[0m\u001B[1mkode_item\u001B[0m\u001B[1m                              \u001B[0m\u001B[1m \u001B[0m┃\u001B[1m \u001B[0m\u001B[1mkantor\u001B[0m\u001B[1m    \u001B[0m\u001B[1m \u001B[0m┃\u001B[1m \u001B[0m\u001B[1mstok\u001B[0m\u001B[1m   \u001B[0m\u001B[1m \u001B[0m┃\u001B[1m \u001B[0m\u001B[1mhppdasar\u001B[0m\u001B[1m              \u001B[0m\u001B[1m \u001B[0m┃\n",
       "┡━━━━━━━━━━━━━━━━━━━━━━━━━━━━━━━━━━━━━━━━━╇━━━━━━━━━━━━╇━━━━━━━━━╇━━━━━━━━━━━━━━━━━━━━━━━━┩\n",
       "│ \u001B[2mstring(100)\u001B[0m                             │ \u001B[2mstring(50)\u001B[0m │ \u001B[2mdecimal\u001B[0m │ \u001B[2mdecimal(35, 20)\u001B[0m        │\n",
       "├─────────────────────────────────────────┼────────────┼─────────┼────────────────────────┤\n",
       "│ \u001B[32m001-aice-chocolate-max                 \u001B[0m │ \u001B[32mSMR       \u001B[0m │    \u001B[1;36m12.0\u001B[0m │ \u001B[1;36m0.00000000000000000000\u001B[0m │\n",
       "│ \u001B[32m001-aice-chocolate-max                 \u001B[0m │ \u001B[32mUTM       \u001B[0m │    \u001B[1;36m11.0\u001B[0m │ \u001B[1;36m0.00000000000000000000\u001B[0m │\n",
       "│ \u001B[32m002-aice-histeria-matcha               \u001B[0m │ \u001B[32mUTM       \u001B[0m │    \u001B[1;36m10.0\u001B[0m │ \u001B[1;36m0.00000000000000000000\u001B[0m │\n",
       "│ \u001B[32m002-aice-histeria-matcha               \u001B[0m │ \u001B[32mSMR       \u001B[0m │     \u001B[1;36m9.0\u001B[0m │ \u001B[1;36m0.00000000000000000000\u001B[0m │\n",
       "│ \u001B[32m003-aice-mochi-milk-tea                \u001B[0m │ \u001B[32mSMR       \u001B[0m │     \u001B[1;36m9.0\u001B[0m │ \u001B[1;36m0.00000000000000000000\u001B[0m │\n",
       "│ \u001B[32m004-aice-mango-slush-low-fat-less-sugar\u001B[0m │ \u001B[32mSMR       \u001B[0m │    \u001B[1;36m10.0\u001B[0m │ \u001B[1;36m0.00000000000000000000\u001B[0m │\n",
       "│ \u001B[32m003-aice-mochi-milk-tea                \u001B[0m │ \u001B[32mUTM       \u001B[0m │    \u001B[1;36m10.0\u001B[0m │ \u001B[1;36m0.00000000000000000000\u001B[0m │\n",
       "│ \u001B[32m004-aice-mango-slush-low-fat-less-sugar\u001B[0m │ \u001B[32mUTM       \u001B[0m │     \u001B[1;36m9.0\u001B[0m │ \u001B[1;36m0.00000000000000000000\u001B[0m │\n",
       "└─────────────────────────────────────────┴────────────┴─────────┴────────────────────────┘"
      ],
      "text/html": [
       "<pre style=\"white-space:pre;overflow-x:auto;line-height:normal;font-family:Menlo,'DejaVu Sans Mono',consolas,'Courier New',monospace\">┏━━━━━━━━━━━━━━━━━━━━━━━━━━━━━━━━━━━━━━━━━┳━━━━━━━━━━━━┳━━━━━━━━━┳━━━━━━━━━━━━━━━━━━━━━━━━┓\n",
       "┃<span style=\"font-weight: bold\"> kode_item                               </span>┃<span style=\"font-weight: bold\"> kantor     </span>┃<span style=\"font-weight: bold\"> stok    </span>┃<span style=\"font-weight: bold\"> hppdasar               </span>┃\n",
       "┡━━━━━━━━━━━━━━━━━━━━━━━━━━━━━━━━━━━━━━━━━╇━━━━━━━━━━━━╇━━━━━━━━━╇━━━━━━━━━━━━━━━━━━━━━━━━┩\n",
       "│ <span style=\"color: #7f7f7f; text-decoration-color: #7f7f7f\">string(100)</span>                             │ <span style=\"color: #7f7f7f; text-decoration-color: #7f7f7f\">string(50)</span> │ <span style=\"color: #7f7f7f; text-decoration-color: #7f7f7f\">decimal</span> │ <span style=\"color: #7f7f7f; text-decoration-color: #7f7f7f\">decimal(35, 20)</span>        │\n",
       "├─────────────────────────────────────────┼────────────┼─────────┼────────────────────────┤\n",
       "│ <span style=\"color: #008000; text-decoration-color: #008000\">001-aice-chocolate-max                 </span> │ <span style=\"color: #008000; text-decoration-color: #008000\">SMR       </span> │    <span style=\"color: #008080; text-decoration-color: #008080; font-weight: bold\">12.0</span> │ <span style=\"color: #008080; text-decoration-color: #008080; font-weight: bold\">0.00000000000000000000</span> │\n",
       "│ <span style=\"color: #008000; text-decoration-color: #008000\">001-aice-chocolate-max                 </span> │ <span style=\"color: #008000; text-decoration-color: #008000\">UTM       </span> │    <span style=\"color: #008080; text-decoration-color: #008080; font-weight: bold\">11.0</span> │ <span style=\"color: #008080; text-decoration-color: #008080; font-weight: bold\">0.00000000000000000000</span> │\n",
       "│ <span style=\"color: #008000; text-decoration-color: #008000\">002-aice-histeria-matcha               </span> │ <span style=\"color: #008000; text-decoration-color: #008000\">UTM       </span> │    <span style=\"color: #008080; text-decoration-color: #008080; font-weight: bold\">10.0</span> │ <span style=\"color: #008080; text-decoration-color: #008080; font-weight: bold\">0.00000000000000000000</span> │\n",
       "│ <span style=\"color: #008000; text-decoration-color: #008000\">002-aice-histeria-matcha               </span> │ <span style=\"color: #008000; text-decoration-color: #008000\">SMR       </span> │     <span style=\"color: #008080; text-decoration-color: #008080; font-weight: bold\">9.0</span> │ <span style=\"color: #008080; text-decoration-color: #008080; font-weight: bold\">0.00000000000000000000</span> │\n",
       "│ <span style=\"color: #008000; text-decoration-color: #008000\">003-aice-mochi-milk-tea                </span> │ <span style=\"color: #008000; text-decoration-color: #008000\">SMR       </span> │     <span style=\"color: #008080; text-decoration-color: #008080; font-weight: bold\">9.0</span> │ <span style=\"color: #008080; text-decoration-color: #008080; font-weight: bold\">0.00000000000000000000</span> │\n",
       "│ <span style=\"color: #008000; text-decoration-color: #008000\">004-aice-mango-slush-low-fat-less-sugar</span> │ <span style=\"color: #008000; text-decoration-color: #008000\">SMR       </span> │    <span style=\"color: #008080; text-decoration-color: #008080; font-weight: bold\">10.0</span> │ <span style=\"color: #008080; text-decoration-color: #008080; font-weight: bold\">0.00000000000000000000</span> │\n",
       "│ <span style=\"color: #008000; text-decoration-color: #008000\">003-aice-mochi-milk-tea                </span> │ <span style=\"color: #008000; text-decoration-color: #008000\">UTM       </span> │    <span style=\"color: #008080; text-decoration-color: #008080; font-weight: bold\">10.0</span> │ <span style=\"color: #008080; text-decoration-color: #008080; font-weight: bold\">0.00000000000000000000</span> │\n",
       "│ <span style=\"color: #008000; text-decoration-color: #008000\">004-aice-mango-slush-low-fat-less-sugar</span> │ <span style=\"color: #008000; text-decoration-color: #008000\">UTM       </span> │     <span style=\"color: #008080; text-decoration-color: #008080; font-weight: bold\">9.0</span> │ <span style=\"color: #008080; text-decoration-color: #008080; font-weight: bold\">0.00000000000000000000</span> │\n",
       "└─────────────────────────────────────────┴────────────┴─────────┴────────────────────────┘\n",
       "</pre>\n"
      ]
     },
     "execution_count": 3,
     "metadata": {},
     "output_type": "execute_result"
    }
   ],
   "execution_count": 3
  },
  {
   "metadata": {
    "ExecuteTime": {
     "end_time": "2025-08-23T23:32:36.783785Z",
     "start_time": "2025-08-23T23:32:35.897814Z"
    }
   },
   "cell_type": "code",
   "source": [
    "salesInvoiceDetails = (\n",
    "    iposDataframe.salesInvoiceDetails()\n",
    "    .between(\"2025-08-1\", \"2025-08-30\")\n",
    ")\n",
    "\n",
    "salesInvoiceDetails.load()"
   ],
   "id": "df1255079e92f3d",
   "outputs": [
    {
     "data": {
      "text/plain": [
       "┏━━━━━━━━━━━━━━━━━━━┳━━━━━━━━━━━━━━━━━┳━━━━━━━━━━━━┳━━━━━━━━━━━━━━━┳━━━━━━━━━━━━┳━━━━━━━━━━━━━━━━┳━━━━━━━━━━━━━━┳━━━━━━━━━━━━━━━━━━━━━━━━━━━━━━━━━━━━━━━━━┳━━━━━━━━━━━━━━━━━━━━━━━━━━━━━━━━━━━━━┳━━━━━━━━━━━━┳━━━━━━━━━━━━┳━━━━━━━━━┳━━━━━━━━━━━━┳━━━━━━━━━━━━━━━━┳━━━━━━━━━━━━━━━━┳━━━━━━━━━━━━━━━━┓\n",
       "┃\u001B[1m \u001B[0m\u001B[1minvoice_id\u001B[0m\u001B[1m       \u001B[0m\u001B[1m \u001B[0m┃\u001B[1m \u001B[0m\u001B[1minvoice_created\u001B[0m\u001B[1m \u001B[0m┃\u001B[1m \u001B[0m\u001B[1mtipe\u001B[0m\u001B[1m      \u001B[0m\u001B[1m \u001B[0m┃\u001B[1m \u001B[0m\u001B[1mlokasi_keluar\u001B[0m\u001B[1m \u001B[0m┃\u001B[1m \u001B[0m\u001B[1muser\u001B[0m\u001B[1m      \u001B[0m\u001B[1m \u001B[0m┃\u001B[1m \u001B[0m\u001B[1mkode_pelanggan\u001B[0m\u001B[1m \u001B[0m┃\u001B[1m \u001B[0m\u001B[1mkode_penjual\u001B[0m\u001B[1m \u001B[0m┃\u001B[1m \u001B[0m\u001B[1mkode_item\u001B[0m\u001B[1m                              \u001B[0m\u001B[1m \u001B[0m┃\u001B[1m \u001B[0m\u001B[1mnama_item\u001B[0m\u001B[1m                          \u001B[0m\u001B[1m \u001B[0m┃\u001B[1m \u001B[0m\u001B[1mmerek\u001B[0m\u001B[1m     \u001B[0m\u001B[1m \u001B[0m┃\u001B[1m \u001B[0m\u001B[1mjenis\u001B[0m\u001B[1m     \u001B[0m\u001B[1m \u001B[0m┃\u001B[1m \u001B[0m\u001B[1mjumlah\u001B[0m\u001B[1m \u001B[0m\u001B[1m \u001B[0m┃\u001B[1m \u001B[0m\u001B[1msatuan\u001B[0m\u001B[1m    \u001B[0m\u001B[1m \u001B[0m┃\u001B[1m \u001B[0m\u001B[1mharga\u001B[0m\u001B[1m         \u001B[0m\u001B[1m \u001B[0m┃\u001B[1m \u001B[0m\u001B[1mpotongan_item\u001B[0m\u001B[1m \u001B[0m\u001B[1m \u001B[0m┃\u001B[1m \u001B[0m\u001B[1mtotal\u001B[0m\u001B[1m         \u001B[0m\u001B[1m \u001B[0m┃\n",
       "┡━━━━━━━━━━━━━━━━━━━╇━━━━━━━━━━━━━━━━━╇━━━━━━━━━━━━╇━━━━━━━━━━━━━━━╇━━━━━━━━━━━━╇━━━━━━━━━━━━━━━━╇━━━━━━━━━━━━━━╇━━━━━━━━━━━━━━━━━━━━━━━━━━━━━━━━━━━━━━━━━╇━━━━━━━━━━━━━━━━━━━━━━━━━━━━━━━━━━━━━╇━━━━━━━━━━━━╇━━━━━━━━━━━━╇━━━━━━━━━╇━━━━━━━━━━━━╇━━━━━━━━━━━━━━━━╇━━━━━━━━━━━━━━━━╇━━━━━━━━━━━━━━━━┩\n",
       "│ \u001B[2mstring(50)\u001B[0m        │ \u001B[2mdate\u001B[0m            │ \u001B[2mstring(20)\u001B[0m │ \u001B[2mstring(50)\u001B[0m    │ \u001B[2mstring(50)\u001B[0m │ \u001B[2mstring(50)\u001B[0m     │ \u001B[2mstring(50)\u001B[0m   │ \u001B[2mstring(100)\u001B[0m                             │ \u001B[2mstring\u001B[0m                              │ \u001B[2mstring(50)\u001B[0m │ \u001B[2mstring(50)\u001B[0m │ \u001B[2mdecimal\u001B[0m │ \u001B[2mstring(50)\u001B[0m │ \u001B[2mdecimal(19, 2)\u001B[0m │ \u001B[2mdecimal(19, 2)\u001B[0m │ \u001B[2mdecimal(20, 3)\u001B[0m │\n",
       "├───────────────────┼─────────────────┼────────────┼───────────────┼────────────┼────────────────┼──────────────┼─────────────────────────────────────────┼─────────────────────────────────────┼────────────┼────────────┼─────────┼────────────┼────────────────┼────────────────┼────────────────┤\n",
       "│ \u001B[32m0001/KSR/UTM/0825\u001B[0m │ \u001B[35m2025-08-17\u001B[0m      │ \u001B[32mKSR       \u001B[0m │ \u001B[32mUTM          \u001B[0m │ \u001B[32mADMIN     \u001B[0m │ \u001B[32mUMUM          \u001B[0m │ \u001B[32mSL-LINDA    \u001B[0m │ \u001B[32m003-aice-mochi-milk-tea                \u001B[0m │ \u001B[32mAice Mochi Milk Tea                \u001B[0m │ \u001B[32mAICE      \u001B[0m │ \u001B[32mMKN       \u001B[0m │     \u001B[1;36m1.0\u001B[0m │ \u001B[32mPCS       \u001B[0m │        \u001B[1;36m6000.00\u001B[0m │           \u001B[1;36m0.00\u001B[0m │       \u001B[1;36m6000.000\u001B[0m │\n",
       "│ \u001B[32m0001/KSR/UTM/0825\u001B[0m │ \u001B[35m2025-08-17\u001B[0m      │ \u001B[32mKSR       \u001B[0m │ \u001B[32mUTM          \u001B[0m │ \u001B[32mADMIN     \u001B[0m │ \u001B[32mUMUM          \u001B[0m │ \u001B[32mSL-LINDA    \u001B[0m │ \u001B[32m002-aice-histeria-matcha               \u001B[0m │ \u001B[32mAice Histeria Matcha               \u001B[0m │ \u001B[32mAICE      \u001B[0m │ \u001B[32mMKN       \u001B[0m │     \u001B[1;36m1.0\u001B[0m │ \u001B[32mPCS       \u001B[0m │        \u001B[1;36m5000.00\u001B[0m │           \u001B[1;36m0.00\u001B[0m │       \u001B[1;36m5000.000\u001B[0m │\n",
       "│ \u001B[32m0001/KSR/UTM/0825\u001B[0m │ \u001B[35m2025-08-17\u001B[0m      │ \u001B[32mKSR       \u001B[0m │ \u001B[32mUTM          \u001B[0m │ \u001B[32mADMIN     \u001B[0m │ \u001B[32mUMUM          \u001B[0m │ \u001B[32mSL-LINDA    \u001B[0m │ \u001B[32m001-aice-chocolate-max                 \u001B[0m │ \u001B[32mAice Chocolate Max                 \u001B[0m │ \u001B[32mAICE      \u001B[0m │ \u001B[32mMKN       \u001B[0m │     \u001B[1;36m1.0\u001B[0m │ \u001B[32mPCS       \u001B[0m │        \u001B[1;36m7000.00\u001B[0m │           \u001B[1;36m0.00\u001B[0m │       \u001B[1;36m7000.000\u001B[0m │\n",
       "│ \u001B[32m0002/KSR/UTM/0825\u001B[0m │ \u001B[35m2025-08-17\u001B[0m      │ \u001B[32mKSR       \u001B[0m │ \u001B[32mSMR          \u001B[0m │ \u001B[32mADMIN     \u001B[0m │ \u001B[32mUMUM          \u001B[0m │ \u001B[32mSL-AAN      \u001B[0m │ \u001B[32m003-aice-mochi-milk-tea                \u001B[0m │ \u001B[32mAice Mochi Milk Tea                \u001B[0m │ \u001B[32mAICE      \u001B[0m │ \u001B[32mMKN       \u001B[0m │     \u001B[1;36m1.0\u001B[0m │ \u001B[32mPCS       \u001B[0m │        \u001B[1;36m6000.00\u001B[0m │           \u001B[1;36m0.00\u001B[0m │       \u001B[1;36m6000.000\u001B[0m │\n",
       "│ \u001B[32m0002/KSR/UTM/0825\u001B[0m │ \u001B[35m2025-08-17\u001B[0m      │ \u001B[32mKSR       \u001B[0m │ \u001B[32mSMR          \u001B[0m │ \u001B[32mADMIN     \u001B[0m │ \u001B[32mUMUM          \u001B[0m │ \u001B[32mSL-AAN      \u001B[0m │ \u001B[32m002-aice-histeria-matcha               \u001B[0m │ \u001B[32mAice Histeria Matcha               \u001B[0m │ \u001B[32mAICE      \u001B[0m │ \u001B[32mMKN       \u001B[0m │     \u001B[1;36m2.0\u001B[0m │ \u001B[32mPCS       \u001B[0m │        \u001B[1;36m5000.00\u001B[0m │           \u001B[1;36m0.00\u001B[0m │      \u001B[1;36m10000.000\u001B[0m │\n",
       "│ \u001B[32m0002/KSR/UTM/0825\u001B[0m │ \u001B[35m2025-08-17\u001B[0m      │ \u001B[32mKSR       \u001B[0m │ \u001B[32mSMR          \u001B[0m │ \u001B[32mADMIN     \u001B[0m │ \u001B[32mUMUM          \u001B[0m │ \u001B[32mSL-AAN      \u001B[0m │ \u001B[32m004-aice-mango-slush-low-fat-less-sugar\u001B[0m │ \u001B[32mAice Mango Alush Low Fat Less Sugar\u001B[0m │ \u001B[32mAICE      \u001B[0m │ \u001B[32mMKN       \u001B[0m │     \u001B[1;36m1.0\u001B[0m │ \u001B[32mPCS       \u001B[0m │        \u001B[1;36m5000.00\u001B[0m │           \u001B[1;36m0.00\u001B[0m │       \u001B[1;36m5000.000\u001B[0m │\n",
       "│ \u001B[32m0003/KSR/UTM/0825\u001B[0m │ \u001B[35m2025-08-18\u001B[0m      │ \u001B[32mKSR       \u001B[0m │ \u001B[32mUTM          \u001B[0m │ \u001B[32mADMIN     \u001B[0m │ \u001B[32mUMUM          \u001B[0m │ \u001B[32mSL-AAN      \u001B[0m │ \u001B[32m004-aice-mango-slush-low-fat-less-sugar\u001B[0m │ \u001B[32mAice Mango Alush Low Fat Less Sugar\u001B[0m │ \u001B[32mAICE      \u001B[0m │ \u001B[32mMKN       \u001B[0m │     \u001B[1;36m1.0\u001B[0m │ \u001B[32mPCS       \u001B[0m │        \u001B[1;36m5000.00\u001B[0m │           \u001B[1;36m0.00\u001B[0m │       \u001B[1;36m5000.000\u001B[0m │\n",
       "│ \u001B[32m0003/KSR/UTM/0825\u001B[0m │ \u001B[35m2025-08-18\u001B[0m      │ \u001B[32mKSR       \u001B[0m │ \u001B[32mUTM          \u001B[0m │ \u001B[32mADMIN     \u001B[0m │ \u001B[32mUMUM          \u001B[0m │ \u001B[32mSL-AAN      \u001B[0m │ \u001B[32m002-aice-histeria-matcha               \u001B[0m │ \u001B[32mAice Histeria Matcha               \u001B[0m │ \u001B[32mAICE      \u001B[0m │ \u001B[32mMKN       \u001B[0m │     \u001B[1;36m1.0\u001B[0m │ \u001B[32mPCS       \u001B[0m │        \u001B[1;36m5000.00\u001B[0m │           \u001B[1;36m0.00\u001B[0m │       \u001B[1;36m5000.000\u001B[0m │\n",
       "│ \u001B[32m0004/KSR/UTM/0825\u001B[0m │ \u001B[35m2025-08-19\u001B[0m      │ \u001B[32mKSR       \u001B[0m │ \u001B[32mSMR          \u001B[0m │ \u001B[32mADMIN     \u001B[0m │ \u001B[32mUMUM          \u001B[0m │ \u001B[2mNULL\u001B[0m         │ \u001B[32m004-aice-mango-slush-low-fat-less-sugar\u001B[0m │ \u001B[32mAice Mango Alush Low Fat Less Sugar\u001B[0m │ \u001B[32mAICE      \u001B[0m │ \u001B[32mMKN       \u001B[0m │     \u001B[1;36m1.0\u001B[0m │ \u001B[32mPCS       \u001B[0m │        \u001B[1;36m5000.00\u001B[0m │           \u001B[1;36m0.00\u001B[0m │       \u001B[1;36m5000.000\u001B[0m │\n",
       "│ \u001B[32m0004/KSR/UTM/0825\u001B[0m │ \u001B[35m2025-08-19\u001B[0m      │ \u001B[32mKSR       \u001B[0m │ \u001B[32mSMR          \u001B[0m │ \u001B[32mADMIN     \u001B[0m │ \u001B[32mUMUM          \u001B[0m │ \u001B[2mNULL\u001B[0m         │ \u001B[32m003-aice-mochi-milk-tea                \u001B[0m │ \u001B[32mAice Mochi Milk Tea                \u001B[0m │ \u001B[32mAICE      \u001B[0m │ \u001B[32mMKN       \u001B[0m │     \u001B[1;36m2.0\u001B[0m │ \u001B[32mPCS       \u001B[0m │        \u001B[1;36m6000.00\u001B[0m │           \u001B[1;36m0.00\u001B[0m │      \u001B[1;36m12000.000\u001B[0m │\n",
       "│ \u001B[2m…\u001B[0m                 │ \u001B[2m…\u001B[0m               │ \u001B[2m…\u001B[0m          │ \u001B[2m…\u001B[0m             │ \u001B[2m…\u001B[0m          │ \u001B[2m…\u001B[0m              │ \u001B[2m…\u001B[0m            │ \u001B[2m…\u001B[0m                                       │ \u001B[2m…\u001B[0m                                   │ \u001B[2m…\u001B[0m          │ \u001B[2m…\u001B[0m          │       \u001B[2m…\u001B[0m │ \u001B[2m…\u001B[0m          │              \u001B[2m…\u001B[0m │              \u001B[2m…\u001B[0m │              \u001B[2m…\u001B[0m │\n",
       "└───────────────────┴─────────────────┴────────────┴───────────────┴────────────┴────────────────┴──────────────┴─────────────────────────────────────────┴─────────────────────────────────────┴────────────┴────────────┴─────────┴────────────┴────────────────┴────────────────┴────────────────┘"
      ],
      "text/html": [
       "<pre style=\"white-space:pre;overflow-x:auto;line-height:normal;font-family:Menlo,'DejaVu Sans Mono',consolas,'Courier New',monospace\">┏━━━━━━━━━━━━━━━━━━━┳━━━━━━━━━━━━━━━━━┳━━━━━━━━━━━━┳━━━━━━━━━━━━━━━┳━━━━━━━━━━━━┳━━━━━━━━━━━━━━━━┳━━━━━━━━━━━━━━┳━━━━━━━━━━━━━━━━━━━━━━━━━━━━━━━━━━━━━━━━━┳━━━━━━━━━━━━━━━━━━━━━━━━━━━━━━━━━━━━━┳━━━━━━━━━━━━┳━━━━━━━━━━━━┳━━━━━━━━━┳━━━━━━━━━━━━┳━━━━━━━━━━━━━━━━┳━━━━━━━━━━━━━━━━┳━━━━━━━━━━━━━━━━┓\n",
       "┃<span style=\"font-weight: bold\"> invoice_id        </span>┃<span style=\"font-weight: bold\"> invoice_created </span>┃<span style=\"font-weight: bold\"> tipe       </span>┃<span style=\"font-weight: bold\"> lokasi_keluar </span>┃<span style=\"font-weight: bold\"> user       </span>┃<span style=\"font-weight: bold\"> kode_pelanggan </span>┃<span style=\"font-weight: bold\"> kode_penjual </span>┃<span style=\"font-weight: bold\"> kode_item                               </span>┃<span style=\"font-weight: bold\"> nama_item                           </span>┃<span style=\"font-weight: bold\"> merek      </span>┃<span style=\"font-weight: bold\"> jenis      </span>┃<span style=\"font-weight: bold\"> jumlah  </span>┃<span style=\"font-weight: bold\"> satuan     </span>┃<span style=\"font-weight: bold\"> harga          </span>┃<span style=\"font-weight: bold\"> potongan_item  </span>┃<span style=\"font-weight: bold\"> total          </span>┃\n",
       "┡━━━━━━━━━━━━━━━━━━━╇━━━━━━━━━━━━━━━━━╇━━━━━━━━━━━━╇━━━━━━━━━━━━━━━╇━━━━━━━━━━━━╇━━━━━━━━━━━━━━━━╇━━━━━━━━━━━━━━╇━━━━━━━━━━━━━━━━━━━━━━━━━━━━━━━━━━━━━━━━━╇━━━━━━━━━━━━━━━━━━━━━━━━━━━━━━━━━━━━━╇━━━━━━━━━━━━╇━━━━━━━━━━━━╇━━━━━━━━━╇━━━━━━━━━━━━╇━━━━━━━━━━━━━━━━╇━━━━━━━━━━━━━━━━╇━━━━━━━━━━━━━━━━┩\n",
       "│ <span style=\"color: #7f7f7f; text-decoration-color: #7f7f7f\">string(50)</span>        │ <span style=\"color: #7f7f7f; text-decoration-color: #7f7f7f\">date</span>            │ <span style=\"color: #7f7f7f; text-decoration-color: #7f7f7f\">string(20)</span> │ <span style=\"color: #7f7f7f; text-decoration-color: #7f7f7f\">string(50)</span>    │ <span style=\"color: #7f7f7f; text-decoration-color: #7f7f7f\">string(50)</span> │ <span style=\"color: #7f7f7f; text-decoration-color: #7f7f7f\">string(50)</span>     │ <span style=\"color: #7f7f7f; text-decoration-color: #7f7f7f\">string(50)</span>   │ <span style=\"color: #7f7f7f; text-decoration-color: #7f7f7f\">string(100)</span>                             │ <span style=\"color: #7f7f7f; text-decoration-color: #7f7f7f\">string</span>                              │ <span style=\"color: #7f7f7f; text-decoration-color: #7f7f7f\">string(50)</span> │ <span style=\"color: #7f7f7f; text-decoration-color: #7f7f7f\">string(50)</span> │ <span style=\"color: #7f7f7f; text-decoration-color: #7f7f7f\">decimal</span> │ <span style=\"color: #7f7f7f; text-decoration-color: #7f7f7f\">string(50)</span> │ <span style=\"color: #7f7f7f; text-decoration-color: #7f7f7f\">decimal(19, 2)</span> │ <span style=\"color: #7f7f7f; text-decoration-color: #7f7f7f\">decimal(19, 2)</span> │ <span style=\"color: #7f7f7f; text-decoration-color: #7f7f7f\">decimal(20, 3)</span> │\n",
       "├───────────────────┼─────────────────┼────────────┼───────────────┼────────────┼────────────────┼──────────────┼─────────────────────────────────────────┼─────────────────────────────────────┼────────────┼────────────┼─────────┼────────────┼────────────────┼────────────────┼────────────────┤\n",
       "│ <span style=\"color: #008000; text-decoration-color: #008000\">0001/KSR/UTM/0825</span> │ <span style=\"color: #800080; text-decoration-color: #800080\">2025-08-17</span>      │ <span style=\"color: #008000; text-decoration-color: #008000\">KSR       </span> │ <span style=\"color: #008000; text-decoration-color: #008000\">UTM          </span> │ <span style=\"color: #008000; text-decoration-color: #008000\">ADMIN     </span> │ <span style=\"color: #008000; text-decoration-color: #008000\">UMUM          </span> │ <span style=\"color: #008000; text-decoration-color: #008000\">SL-LINDA    </span> │ <span style=\"color: #008000; text-decoration-color: #008000\">003-aice-mochi-milk-tea                </span> │ <span style=\"color: #008000; text-decoration-color: #008000\">Aice Mochi Milk Tea                </span> │ <span style=\"color: #008000; text-decoration-color: #008000\">AICE      </span> │ <span style=\"color: #008000; text-decoration-color: #008000\">MKN       </span> │     <span style=\"color: #008080; text-decoration-color: #008080; font-weight: bold\">1.0</span> │ <span style=\"color: #008000; text-decoration-color: #008000\">PCS       </span> │        <span style=\"color: #008080; text-decoration-color: #008080; font-weight: bold\">6000.00</span> │           <span style=\"color: #008080; text-decoration-color: #008080; font-weight: bold\">0.00</span> │       <span style=\"color: #008080; text-decoration-color: #008080; font-weight: bold\">6000.000</span> │\n",
       "│ <span style=\"color: #008000; text-decoration-color: #008000\">0001/KSR/UTM/0825</span> │ <span style=\"color: #800080; text-decoration-color: #800080\">2025-08-17</span>      │ <span style=\"color: #008000; text-decoration-color: #008000\">KSR       </span> │ <span style=\"color: #008000; text-decoration-color: #008000\">UTM          </span> │ <span style=\"color: #008000; text-decoration-color: #008000\">ADMIN     </span> │ <span style=\"color: #008000; text-decoration-color: #008000\">UMUM          </span> │ <span style=\"color: #008000; text-decoration-color: #008000\">SL-LINDA    </span> │ <span style=\"color: #008000; text-decoration-color: #008000\">002-aice-histeria-matcha               </span> │ <span style=\"color: #008000; text-decoration-color: #008000\">Aice Histeria Matcha               </span> │ <span style=\"color: #008000; text-decoration-color: #008000\">AICE      </span> │ <span style=\"color: #008000; text-decoration-color: #008000\">MKN       </span> │     <span style=\"color: #008080; text-decoration-color: #008080; font-weight: bold\">1.0</span> │ <span style=\"color: #008000; text-decoration-color: #008000\">PCS       </span> │        <span style=\"color: #008080; text-decoration-color: #008080; font-weight: bold\">5000.00</span> │           <span style=\"color: #008080; text-decoration-color: #008080; font-weight: bold\">0.00</span> │       <span style=\"color: #008080; text-decoration-color: #008080; font-weight: bold\">5000.000</span> │\n",
       "│ <span style=\"color: #008000; text-decoration-color: #008000\">0001/KSR/UTM/0825</span> │ <span style=\"color: #800080; text-decoration-color: #800080\">2025-08-17</span>      │ <span style=\"color: #008000; text-decoration-color: #008000\">KSR       </span> │ <span style=\"color: #008000; text-decoration-color: #008000\">UTM          </span> │ <span style=\"color: #008000; text-decoration-color: #008000\">ADMIN     </span> │ <span style=\"color: #008000; text-decoration-color: #008000\">UMUM          </span> │ <span style=\"color: #008000; text-decoration-color: #008000\">SL-LINDA    </span> │ <span style=\"color: #008000; text-decoration-color: #008000\">001-aice-chocolate-max                 </span> │ <span style=\"color: #008000; text-decoration-color: #008000\">Aice Chocolate Max                 </span> │ <span style=\"color: #008000; text-decoration-color: #008000\">AICE      </span> │ <span style=\"color: #008000; text-decoration-color: #008000\">MKN       </span> │     <span style=\"color: #008080; text-decoration-color: #008080; font-weight: bold\">1.0</span> │ <span style=\"color: #008000; text-decoration-color: #008000\">PCS       </span> │        <span style=\"color: #008080; text-decoration-color: #008080; font-weight: bold\">7000.00</span> │           <span style=\"color: #008080; text-decoration-color: #008080; font-weight: bold\">0.00</span> │       <span style=\"color: #008080; text-decoration-color: #008080; font-weight: bold\">7000.000</span> │\n",
       "│ <span style=\"color: #008000; text-decoration-color: #008000\">0002/KSR/UTM/0825</span> │ <span style=\"color: #800080; text-decoration-color: #800080\">2025-08-17</span>      │ <span style=\"color: #008000; text-decoration-color: #008000\">KSR       </span> │ <span style=\"color: #008000; text-decoration-color: #008000\">SMR          </span> │ <span style=\"color: #008000; text-decoration-color: #008000\">ADMIN     </span> │ <span style=\"color: #008000; text-decoration-color: #008000\">UMUM          </span> │ <span style=\"color: #008000; text-decoration-color: #008000\">SL-AAN      </span> │ <span style=\"color: #008000; text-decoration-color: #008000\">003-aice-mochi-milk-tea                </span> │ <span style=\"color: #008000; text-decoration-color: #008000\">Aice Mochi Milk Tea                </span> │ <span style=\"color: #008000; text-decoration-color: #008000\">AICE      </span> │ <span style=\"color: #008000; text-decoration-color: #008000\">MKN       </span> │     <span style=\"color: #008080; text-decoration-color: #008080; font-weight: bold\">1.0</span> │ <span style=\"color: #008000; text-decoration-color: #008000\">PCS       </span> │        <span style=\"color: #008080; text-decoration-color: #008080; font-weight: bold\">6000.00</span> │           <span style=\"color: #008080; text-decoration-color: #008080; font-weight: bold\">0.00</span> │       <span style=\"color: #008080; text-decoration-color: #008080; font-weight: bold\">6000.000</span> │\n",
       "│ <span style=\"color: #008000; text-decoration-color: #008000\">0002/KSR/UTM/0825</span> │ <span style=\"color: #800080; text-decoration-color: #800080\">2025-08-17</span>      │ <span style=\"color: #008000; text-decoration-color: #008000\">KSR       </span> │ <span style=\"color: #008000; text-decoration-color: #008000\">SMR          </span> │ <span style=\"color: #008000; text-decoration-color: #008000\">ADMIN     </span> │ <span style=\"color: #008000; text-decoration-color: #008000\">UMUM          </span> │ <span style=\"color: #008000; text-decoration-color: #008000\">SL-AAN      </span> │ <span style=\"color: #008000; text-decoration-color: #008000\">002-aice-histeria-matcha               </span> │ <span style=\"color: #008000; text-decoration-color: #008000\">Aice Histeria Matcha               </span> │ <span style=\"color: #008000; text-decoration-color: #008000\">AICE      </span> │ <span style=\"color: #008000; text-decoration-color: #008000\">MKN       </span> │     <span style=\"color: #008080; text-decoration-color: #008080; font-weight: bold\">2.0</span> │ <span style=\"color: #008000; text-decoration-color: #008000\">PCS       </span> │        <span style=\"color: #008080; text-decoration-color: #008080; font-weight: bold\">5000.00</span> │           <span style=\"color: #008080; text-decoration-color: #008080; font-weight: bold\">0.00</span> │      <span style=\"color: #008080; text-decoration-color: #008080; font-weight: bold\">10000.000</span> │\n",
       "│ <span style=\"color: #008000; text-decoration-color: #008000\">0002/KSR/UTM/0825</span> │ <span style=\"color: #800080; text-decoration-color: #800080\">2025-08-17</span>      │ <span style=\"color: #008000; text-decoration-color: #008000\">KSR       </span> │ <span style=\"color: #008000; text-decoration-color: #008000\">SMR          </span> │ <span style=\"color: #008000; text-decoration-color: #008000\">ADMIN     </span> │ <span style=\"color: #008000; text-decoration-color: #008000\">UMUM          </span> │ <span style=\"color: #008000; text-decoration-color: #008000\">SL-AAN      </span> │ <span style=\"color: #008000; text-decoration-color: #008000\">004-aice-mango-slush-low-fat-less-sugar</span> │ <span style=\"color: #008000; text-decoration-color: #008000\">Aice Mango Alush Low Fat Less Sugar</span> │ <span style=\"color: #008000; text-decoration-color: #008000\">AICE      </span> │ <span style=\"color: #008000; text-decoration-color: #008000\">MKN       </span> │     <span style=\"color: #008080; text-decoration-color: #008080; font-weight: bold\">1.0</span> │ <span style=\"color: #008000; text-decoration-color: #008000\">PCS       </span> │        <span style=\"color: #008080; text-decoration-color: #008080; font-weight: bold\">5000.00</span> │           <span style=\"color: #008080; text-decoration-color: #008080; font-weight: bold\">0.00</span> │       <span style=\"color: #008080; text-decoration-color: #008080; font-weight: bold\">5000.000</span> │\n",
       "│ <span style=\"color: #008000; text-decoration-color: #008000\">0003/KSR/UTM/0825</span> │ <span style=\"color: #800080; text-decoration-color: #800080\">2025-08-18</span>      │ <span style=\"color: #008000; text-decoration-color: #008000\">KSR       </span> │ <span style=\"color: #008000; text-decoration-color: #008000\">UTM          </span> │ <span style=\"color: #008000; text-decoration-color: #008000\">ADMIN     </span> │ <span style=\"color: #008000; text-decoration-color: #008000\">UMUM          </span> │ <span style=\"color: #008000; text-decoration-color: #008000\">SL-AAN      </span> │ <span style=\"color: #008000; text-decoration-color: #008000\">004-aice-mango-slush-low-fat-less-sugar</span> │ <span style=\"color: #008000; text-decoration-color: #008000\">Aice Mango Alush Low Fat Less Sugar</span> │ <span style=\"color: #008000; text-decoration-color: #008000\">AICE      </span> │ <span style=\"color: #008000; text-decoration-color: #008000\">MKN       </span> │     <span style=\"color: #008080; text-decoration-color: #008080; font-weight: bold\">1.0</span> │ <span style=\"color: #008000; text-decoration-color: #008000\">PCS       </span> │        <span style=\"color: #008080; text-decoration-color: #008080; font-weight: bold\">5000.00</span> │           <span style=\"color: #008080; text-decoration-color: #008080; font-weight: bold\">0.00</span> │       <span style=\"color: #008080; text-decoration-color: #008080; font-weight: bold\">5000.000</span> │\n",
       "│ <span style=\"color: #008000; text-decoration-color: #008000\">0003/KSR/UTM/0825</span> │ <span style=\"color: #800080; text-decoration-color: #800080\">2025-08-18</span>      │ <span style=\"color: #008000; text-decoration-color: #008000\">KSR       </span> │ <span style=\"color: #008000; text-decoration-color: #008000\">UTM          </span> │ <span style=\"color: #008000; text-decoration-color: #008000\">ADMIN     </span> │ <span style=\"color: #008000; text-decoration-color: #008000\">UMUM          </span> │ <span style=\"color: #008000; text-decoration-color: #008000\">SL-AAN      </span> │ <span style=\"color: #008000; text-decoration-color: #008000\">002-aice-histeria-matcha               </span> │ <span style=\"color: #008000; text-decoration-color: #008000\">Aice Histeria Matcha               </span> │ <span style=\"color: #008000; text-decoration-color: #008000\">AICE      </span> │ <span style=\"color: #008000; text-decoration-color: #008000\">MKN       </span> │     <span style=\"color: #008080; text-decoration-color: #008080; font-weight: bold\">1.0</span> │ <span style=\"color: #008000; text-decoration-color: #008000\">PCS       </span> │        <span style=\"color: #008080; text-decoration-color: #008080; font-weight: bold\">5000.00</span> │           <span style=\"color: #008080; text-decoration-color: #008080; font-weight: bold\">0.00</span> │       <span style=\"color: #008080; text-decoration-color: #008080; font-weight: bold\">5000.000</span> │\n",
       "│ <span style=\"color: #008000; text-decoration-color: #008000\">0004/KSR/UTM/0825</span> │ <span style=\"color: #800080; text-decoration-color: #800080\">2025-08-19</span>      │ <span style=\"color: #008000; text-decoration-color: #008000\">KSR       </span> │ <span style=\"color: #008000; text-decoration-color: #008000\">SMR          </span> │ <span style=\"color: #008000; text-decoration-color: #008000\">ADMIN     </span> │ <span style=\"color: #008000; text-decoration-color: #008000\">UMUM          </span> │ <span style=\"color: #7f7f7f; text-decoration-color: #7f7f7f\">NULL</span>         │ <span style=\"color: #008000; text-decoration-color: #008000\">004-aice-mango-slush-low-fat-less-sugar</span> │ <span style=\"color: #008000; text-decoration-color: #008000\">Aice Mango Alush Low Fat Less Sugar</span> │ <span style=\"color: #008000; text-decoration-color: #008000\">AICE      </span> │ <span style=\"color: #008000; text-decoration-color: #008000\">MKN       </span> │     <span style=\"color: #008080; text-decoration-color: #008080; font-weight: bold\">1.0</span> │ <span style=\"color: #008000; text-decoration-color: #008000\">PCS       </span> │        <span style=\"color: #008080; text-decoration-color: #008080; font-weight: bold\">5000.00</span> │           <span style=\"color: #008080; text-decoration-color: #008080; font-weight: bold\">0.00</span> │       <span style=\"color: #008080; text-decoration-color: #008080; font-weight: bold\">5000.000</span> │\n",
       "│ <span style=\"color: #008000; text-decoration-color: #008000\">0004/KSR/UTM/0825</span> │ <span style=\"color: #800080; text-decoration-color: #800080\">2025-08-19</span>      │ <span style=\"color: #008000; text-decoration-color: #008000\">KSR       </span> │ <span style=\"color: #008000; text-decoration-color: #008000\">SMR          </span> │ <span style=\"color: #008000; text-decoration-color: #008000\">ADMIN     </span> │ <span style=\"color: #008000; text-decoration-color: #008000\">UMUM          </span> │ <span style=\"color: #7f7f7f; text-decoration-color: #7f7f7f\">NULL</span>         │ <span style=\"color: #008000; text-decoration-color: #008000\">003-aice-mochi-milk-tea                </span> │ <span style=\"color: #008000; text-decoration-color: #008000\">Aice Mochi Milk Tea                </span> │ <span style=\"color: #008000; text-decoration-color: #008000\">AICE      </span> │ <span style=\"color: #008000; text-decoration-color: #008000\">MKN       </span> │     <span style=\"color: #008080; text-decoration-color: #008080; font-weight: bold\">2.0</span> │ <span style=\"color: #008000; text-decoration-color: #008000\">PCS       </span> │        <span style=\"color: #008080; text-decoration-color: #008080; font-weight: bold\">6000.00</span> │           <span style=\"color: #008080; text-decoration-color: #008080; font-weight: bold\">0.00</span> │      <span style=\"color: #008080; text-decoration-color: #008080; font-weight: bold\">12000.000</span> │\n",
       "│ <span style=\"color: #7f7f7f; text-decoration-color: #7f7f7f\">…</span>                 │ <span style=\"color: #7f7f7f; text-decoration-color: #7f7f7f\">…</span>               │ <span style=\"color: #7f7f7f; text-decoration-color: #7f7f7f\">…</span>          │ <span style=\"color: #7f7f7f; text-decoration-color: #7f7f7f\">…</span>             │ <span style=\"color: #7f7f7f; text-decoration-color: #7f7f7f\">…</span>          │ <span style=\"color: #7f7f7f; text-decoration-color: #7f7f7f\">…</span>              │ <span style=\"color: #7f7f7f; text-decoration-color: #7f7f7f\">…</span>            │ <span style=\"color: #7f7f7f; text-decoration-color: #7f7f7f\">…</span>                                       │ <span style=\"color: #7f7f7f; text-decoration-color: #7f7f7f\">…</span>                                   │ <span style=\"color: #7f7f7f; text-decoration-color: #7f7f7f\">…</span>          │ <span style=\"color: #7f7f7f; text-decoration-color: #7f7f7f\">…</span>          │       <span style=\"color: #7f7f7f; text-decoration-color: #7f7f7f\">…</span> │ <span style=\"color: #7f7f7f; text-decoration-color: #7f7f7f\">…</span>          │              <span style=\"color: #7f7f7f; text-decoration-color: #7f7f7f\">…</span> │              <span style=\"color: #7f7f7f; text-decoration-color: #7f7f7f\">…</span> │              <span style=\"color: #7f7f7f; text-decoration-color: #7f7f7f\">…</span> │\n",
       "└───────────────────┴─────────────────┴────────────┴───────────────┴────────────┴────────────────┴──────────────┴─────────────────────────────────────────┴─────────────────────────────────────┴────────────┴────────────┴─────────┴────────────┴────────────────┴────────────────┴────────────────┘\n",
       "</pre>\n"
      ]
     },
     "execution_count": 5,
     "metadata": {},
     "output_type": "execute_result"
    }
   ],
   "execution_count": 5
  },
  {
   "metadata": {
    "ExecuteTime": {
     "end_time": "2025-10-02T09:10:30.826186Z",
     "start_time": "2025-10-02T09:10:30.819007Z"
    }
   },
   "cell_type": "code",
   "source": [
    "journal = (\n",
    "    iposDataframe.journalV5()\n",
    "    .between(\"2025-08-1\", \"2025-08-30\")\n",
    ")"
   ],
   "id": "c5871306803bd807",
   "outputs": [],
   "execution_count": 6
  },
  {
   "metadata": {
    "ExecuteTime": {
     "end_time": "2025-10-02T09:10:32.778505Z",
     "start_time": "2025-10-02T09:10:32.546690Z"
    }
   },
   "cell_type": "code",
   "source": [
    "income = journal.income()\n",
    "\n",
    "print(format_currency(income.totalCOGS().to_pandas(), 'ID'))"
   ],
   "id": "b37f8857f70f5802",
   "outputs": [
    {
     "name": "stdout",
     "output_type": "stream",
     "text": [
      "Rp 71.000,00\n"
     ]
    }
   ],
   "execution_count": 7
  },
  {
   "metadata": {
    "ExecuteTime": {
     "end_time": "2025-10-02T09:10:35.213444Z",
     "start_time": "2025-10-02T09:10:34.723816Z"
    }
   },
   "cell_type": "code",
   "source": [
    "debtToAssetRatio = np.round(float(journal.financialRatio().debtToAssetRatio()*100), decimals=2)\n",
    "\n",
    "print(\"\\nSolvency Ratios,\")\n",
    "print(f\"Debt To Asset Ratio: {debtToAssetRatio}\")\n",
    "print(f\"Ini berarti {debtToAssetRatio}% dari aset perusahaan dibiayai oleh utang.\")"
   ],
   "id": "b8a4315d2eca9517",
   "outputs": [
    {
     "name": "stdout",
     "output_type": "stream",
     "text": [
      "\n",
      "Solvency Ratios,\n",
      "Debt To Asset Ratio: 97.85\n",
      "Ini berarti 97.85% dari aset perusahaan dibiayai oleh utang.\n"
     ]
    }
   ],
   "execution_count": 8
  },
  {
   "metadata": {
    "ExecuteTime": {
     "end_time": "2025-10-02T09:10:37.463062Z",
     "start_time": "2025-10-02T09:10:37.109204Z"
    }
   },
   "cell_type": "code",
   "source": [
    "socialResponsibilityToProfitRatio = np.round(float(journal.financialRatio().socialResponsibilityToProfitRatio()*100), decimals=2)\n",
    "\n",
    "print(f\"\"\"\n",
    "CSR To Profit Ratio</b>: {socialResponsibilityToProfitRatio}%, ini berarti {socialResponsibilityToProfitRatio}% telah disalurkan dalam bentuk Amal dari Laba bersih (Net Profit).\n",
    "\\nاَلشَّيْطٰنُ يَعِدُكُمُ الْفَقْرَ وَيَأْمُرُكُمْ بِالْفَحْشَاۤءِۚ وَاللّٰهُ يَعِدُكُمْ مَّغْفِرَةً مِّنْهُ وَفَضْلًاۗ وَاللّٰهُ وَاسِعٌ عَلِيْمٌۖ\n",
    "\\n\"Setan menjanjikan (menakut-nakuti) kamu kemiskinan dan menyuruh kamu berbuat keji (kikir), sedangkan Allah menjanjikan kamu ampunan dan karunia-Nya. Allah Mahaluas lagi Maha Mengetahui.\" QS. Al-Baqarah: 268\n",
    "\"\"\")"
   ],
   "id": "4e2da78fc140cd52",
   "outputs": [
    {
     "name": "stdout",
     "output_type": "stream",
     "text": [
      "\n",
      "CSR To Profit Ratio</b>: 33.33%, ini berarti 33.33% telah disalurkan dalam bentuk Amal dari Laba bersih (Net Profit).\n",
      "\n",
      "اَلشَّيْطٰنُ يَعِدُكُمُ الْفَقْرَ وَيَأْمُرُكُمْ بِالْفَحْشَاۤءِۚ وَاللّٰهُ يَعِدُكُمْ مَّغْفِرَةً مِّنْهُ وَفَضْلًاۗ وَاللّٰهُ وَاسِعٌ عَلِيْمٌۖ\n",
      "\n",
      "\"Setan menjanjikan (menakut-nakuti) kamu kemiskinan dan menyuruh kamu berbuat keji (kikir), sedangkan Allah menjanjikan kamu ampunan dan karunia-Nya. Allah Mahaluas lagi Maha Mengetahui.\" QS. Al-Baqarah: 268\n",
      "\n"
     ]
    }
   ],
   "execution_count": 9
  }
 ],
 "metadata": {
  "kernelspec": {
   "display_name": "Python 3",
   "language": "python",
   "name": "python3"
  },
  "language_info": {
   "codemirror_mode": {
    "name": "ipython",
    "version": 2
   },
   "file_extension": ".py",
   "mimetype": "text/x-python",
   "name": "python",
   "nbconvert_exporter": "python",
   "pygments_lexer": "ipython2",
   "version": "2.7.6"
  }
 },
 "nbformat": 4,
 "nbformat_minor": 5
}
